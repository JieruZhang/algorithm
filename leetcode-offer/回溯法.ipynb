{
 "cells": [
  {
   "cell_type": "markdown",
   "metadata": {},
   "source": [
    "回溯法：包括图的深度优先搜索，树的后序遍历；  \n",
    "分支限界法：图的广度优先搜索，树的层次遍历；    \n",
    "#### 回溯法 \n",
    "（1）装载问题   \n",
    "（2）0-1背包问题   \n",
    "（3）旅行售货员问题   \n",
    "（4）八皇后问题   \n",
    "（5）迷宫问题    \n",
    "（6）图的m着色问题    \n",
    "\n",
    "回溯算法超通俗易懂详尽分析和例题：https://blog.csdn.net/sinat_27908213/article/details/80599460\n"
   ]
  },
  {
   "cell_type": "markdown",
   "metadata": {},
   "source": [
    "**784. 字母大小写全排列**    \n",
    "https://leetcode-cn.com/problems/letter-case-permutation/submissions/   \n",
    "\n",
    "给定一个字符串S，通过将字符串S中的每个字母转变大小写，我们可以获得一个新的字符串。返回所有可能得到的字符串集合。    \n",
    "示例:   \n",
    "输入: S = \"a1b2\"\n",
    "输出: [\"a1b2\", \"a1B2\", \"A1b2\", \"A1B2\"]\n",
    "\n",
    "输入: S = \"3z4\"\n",
    "输出: [\"3z4\", \"3Z4\"]\n",
    "\n",
    "输入: S = \"12345\"\n",
    "输出: [\"12345\"]   "
   ]
  },
  {
   "cell_type": "code",
   "execution_count": 1,
   "metadata": {
    "ExecuteTime": {
     "end_time": "2019-01-08T03:44:58.770084Z",
     "start_time": "2019-01-08T03:44:58.750075Z"
    }
   },
   "outputs": [],
   "source": [
    "class Solution(object):\n",
    "    def letterCasePermutation(self, S):\n",
    "        \"\"\"\n",
    "        :type S: str\n",
    "        :rtype: List[str]\n",
    "        \"\"\"\n",
    "        res = []\n",
    "        self.permu('', res, 0, S)\n",
    "        return res\n",
    "        \n",
    "    def permu(self, substr, res, index, S):\n",
    "        if index >= len(S):\n",
    "            res.append(substr)\n",
    "        else:\n",
    "            if S[index].isalpha():\n",
    "                self.permu(substr+S[index].lower(), res, index+1, S)\n",
    "                self.permu(substr+S[index].upper(), res, index+1, S)\n",
    "            else:\n",
    "                self.permu(substr+S[index], res, index+1, S)"
   ]
  },
  {
   "cell_type": "markdown",
   "metadata": {},
   "source": [
    "**401. 二进制手表**      \n",
    "https://leetcode-cn.com/problems/binary-watch/     \n",
    "二进制手表顶部有 4 个 LED 代表小时（0-11），底部的 6 个 LED 代表分钟（0-59）。\n",
    "\n",
    "每个 LED 代表一个 0 或 1，最低位在右侧。\n",
    "\n",
    "\n",
    "\n",
    "例如，上面的二进制手表读取 “3:25”。\n",
    "\n",
    "给定一个非负整数 n 代表当前 LED 亮着的数量，返回所有可能的时间。\n",
    "\n",
    "案例:\n",
    "\n",
    "输入: n = 1\n",
    "返回: [\"1:00\", \"2:00\", \"4:00\", \"8:00\", \"0:01\", \"0:02\", \"0:04\", \"0:08\", \"0:16\", \"0:32\"]"
   ]
  },
  {
   "cell_type": "code",
   "execution_count": 1,
   "metadata": {
    "ExecuteTime": {
     "end_time": "2019-01-08T06:35:14.312822Z",
     "start_time": "2019-01-08T06:35:14.290812Z"
    }
   },
   "outputs": [],
   "source": [
    "class Solution(object):\n",
    "    def readBinaryWatch(self, num):\n",
    "        \"\"\"\n",
    "        :type num: int\n",
    "        :rtype: List[str]\n",
    "        \"\"\"\n",
    "        time = []\n",
    "        self.permu('', time, num,num)\n",
    "        res = []\n",
    "        for item in time:\n",
    "            hour = int(item[0:4],2)\n",
    "            minute = int(item[4:],2)\n",
    "            if hour < 12 and minute < 60:\n",
    "                hour = str(hour)\n",
    "                minute = str(minute)\n",
    "                res.append(hour+':'+'0'*(2-len(minute))+minute)\n",
    "        return res\n",
    "\n",
    "    def permu(self, substr, time, num,total):\n",
    "        if len(substr) == 10:\n",
    "            #判断当前str是否合法，即是否是有足够的1\n",
    "            if substr.count('1') == total:\n",
    "                time.append(substr)\n",
    "        else:\n",
    "            if num == 0:\n",
    "                time.append(substr+'0'*(10-len(substr)))\n",
    "            else:\n",
    "                self.permu(substr + '1', time, num - 1, total)\n",
    "                self.permu(substr + '0', time, num, total)"
   ]
  },
  {
   "cell_type": "markdown",
   "metadata": {},
   "source": [
    "**77. 组合**   \n",
    "https://leetcode-cn.com/problems/combinations/   \n",
    "给定两个整数 n 和 k，返回 1 ... n 中所有可能的 k 个数的组合。\n",
    "\n",
    "示例:\n",
    "\n",
    "输入: n = 4, k = 2\n",
    "输出:\n",
    "[\n",
    "  [2,4],\n",
    "  [3,4],\n",
    "  [2,3],\n",
    "  [1,2],\n",
    "  [1,3],\n",
    "  [1,4],\n",
    "]"
   ]
  },
  {
   "cell_type": "code",
   "execution_count": 2,
   "metadata": {
    "ExecuteTime": {
     "end_time": "2019-01-08T07:20:03.304655Z",
     "start_time": "2019-01-08T07:20:03.184579Z"
    }
   },
   "outputs": [],
   "source": [
    "class Solution(object):\n",
    "    def combine(self, n, k):\n",
    "        \"\"\"\n",
    "        :type n: int\n",
    "        :type k: int\n",
    "        :rtype: List[List[int]]\n",
    "        \"\"\"\n",
    "        res = []\n",
    "        self.permu([], res, 1, n, k)\n",
    "        return res\n",
    "    \n",
    "    def permu(self, sub, res, begin, n, k):\n",
    "        if len(sub) == k:\n",
    "            res.append(sub)\n",
    "        else:\n",
    "            for i in range(begin, n+1):\n",
    "                begin += 1\n",
    "                self.permu(sub+[i], res, begin, n, k)\n",
    "                \n",
    "        "
   ]
  },
  {
   "cell_type": "markdown",
   "metadata": {},
   "source": [
    "**39. 组合总和**   \n",
    "https://leetcode-cn.com/problems/combination-sum/     \n",
    "给定一个无重复元素的数组 candidates 和一个目标数 target ，找出 candidates 中所有可以使数字和为 target 的组合。\n",
    "\n",
    "candidates 中的数字可以无限制重复被选取。\n",
    "\n",
    "说明：\n",
    "\n",
    "所有数字（包括 target）都是正整数。\n",
    "解集不能包含重复的组合。 \n",
    "示例 1:\n",
    "\n",
    "输入: candidates = [2,3,6,7], target = 7,\n",
    "所求解集为:\n",
    "[\n",
    "  [7],\n",
    "  [2,2,3]\n",
    "]      \n",
    "***区别于背包问题（求最优）***"
   ]
  },
  {
   "cell_type": "code",
   "execution_count": 4,
   "metadata": {
    "ExecuteTime": {
     "end_time": "2019-01-08T08:57:50.576632Z",
     "start_time": "2019-01-08T08:57:50.555623Z"
    }
   },
   "outputs": [],
   "source": [
    "class Solution(object):\n",
    "    def combinationSum(self, candidates, target):\n",
    "        \"\"\"\n",
    "        :type candidates: List[int]\n",
    "        :type target: int\n",
    "        :rtype: List[List[int]]\n",
    "        \"\"\"\n",
    "        res = []\n",
    "        self.permu([], res, candidates, target)\n",
    "        return res\n",
    "\n",
    "    def permu(self, sub, res, candidates, target):\n",
    "        if sum(sub) == target:\n",
    "            if sorted(sub) not in res:\n",
    "                res.append(sorted(sub))\n",
    "        elif sum(sub) < target:\n",
    "            for item in candidates:\n",
    "                self.permu(sub + [item], res, candidates, target)"
   ]
  },
  {
   "cell_type": "markdown",
   "metadata": {},
   "source": [
    "**40. 组合总和 II**     \n",
    "https://leetcode-cn.com/problems/combination-sum-ii/submissions/     \n",
    "给定一个数组 candidates 和一个目标数 target ，找出 candidates 中所有可以使数字和为 target 的组合。\n",
    "\n",
    "candidates 中的每个数字在每个组合中只能使用一次。\n",
    "\n",
    "说明：\n",
    "\n",
    "所有数字（包括目标数）都是正整数。\n",
    "解集不能包含重复的组合。 \n",
    "示例 1:\n",
    "\n",
    "输入: candidates = [10,1,2,7,6,1,5], target = 8,\n",
    "所求解集为:\n",
    "[\n",
    "  [1, 7],\n",
    "  [1, 2, 5],\n",
    "  [2, 6],\n",
    "  [1, 1, 6]\n",
    "]\n",
    "示例 2:\n",
    "\n",
    "输入: candidates = [2,5,2,1,2], target = 5,\n",
    "所求解集为:\n",
    "[\n",
    "  [1,2,2],\n",
    "  [5]\n",
    "]"
   ]
  },
  {
   "cell_type": "code",
   "execution_count": 5,
   "metadata": {
    "ExecuteTime": {
     "end_time": "2019-01-08T08:58:55.930277Z",
     "start_time": "2019-01-08T08:58:55.904257Z"
    }
   },
   "outputs": [],
   "source": [
    "class Solution(object):\n",
    "    def combinationSum2(self, candidates, target):\n",
    "        \"\"\"\n",
    "        :type candidates: List[int]\n",
    "        :type target: int\n",
    "        :rtype: List[List[int]]\n",
    "        \"\"\"\n",
    "        res = []\n",
    "        self.permu([], res, candidates, target)\n",
    "        return res\n",
    "        \n",
    "    def permu(self, sub, res, candidates, target):\n",
    "        if sum(sub) == target:\n",
    "            if sorted(sub) not in res:\n",
    "                res.append(sorted(sub))\n",
    "        elif sum(sub) < target:\n",
    "            for item in candidates:\n",
    "                temp = candidates[:]\n",
    "                temp.remove(item)\n",
    "                self.permu(sub+[item], res, temp, target)"
   ]
  },
  {
   "cell_type": "markdown",
   "metadata": {},
   "source": [
    "**216. 组合总和 III**   \n",
    "https://leetcode-cn.com/problems/combination-sum-iii/   \n",
    "找出所有相加之和为 n 的 k 个数的组合。组合中只允许含有 1 - 9 的正整数，并且每种组合中不存在重复的数字。\n",
    "\n",
    "说明：\n",
    "\n",
    "所有数字都是正整数。\n",
    "解集不能包含重复的组合。 \n",
    "示例 1:\n",
    "\n",
    "输入: k = 3, n = 7\n",
    "输出: [[1,2,4]]"
   ]
  },
  {
   "cell_type": "code",
   "execution_count": 6,
   "metadata": {
    "ExecuteTime": {
     "end_time": "2019-01-08T09:05:14.266304Z",
     "start_time": "2019-01-08T09:05:14.236292Z"
    }
   },
   "outputs": [],
   "source": [
    "class Solution(object):\n",
    "    def combinationSum3(self, k, n):\n",
    "        \"\"\"\n",
    "        :type k: int\n",
    "        :type n: int\n",
    "        :rtype: List[List[int]]\n",
    "        \"\"\"\n",
    "        res = []\n",
    "        self.permu([], res, k, n)\n",
    "        return res\n",
    "        \n",
    "    def permu(self, sub, res, k, n):\n",
    "        if len(sub) == k:\n",
    "            if sum(sub) == n and (sorted(sub) not in res):\n",
    "                res.append(sorted(sub))\n",
    "        elif len(sub) < k and sum(sub) < n:\n",
    "            for item in range(1,10):\n",
    "                if item not in sub:\n",
    "                    self.permu(sub+[item], res, k, n)\n",
    "                    \n",
    "                \n",
    "                "
   ]
  },
  {
   "cell_type": "markdown",
   "metadata": {},
   "source": [
    "**51. N皇后**          \n",
    "参考：https://www.cnblogs.com/houkai/p/3480940.html      \n",
    "https://leetcode-cn.com/problems/n-queens/       \n",
    "https://leetcode-cn.com/problems/n-queens-ii/submissions/    \n",
    "n 皇后问题研究的是如何将 n 个皇后放置在 n×n 的棋盘上，并且使皇后彼此之间不能相互攻击。\n",
    "\n",
    "\n",
    "\n",
    "上图为 8 皇后问题的一种解法。\n",
    "\n",
    "给定一个整数 n，返回所有不同的 n 皇后问题的解决方案。\n",
    "\n",
    "每一种解法包含一个明确的 n 皇后问题的棋子放置方案，该方案中 'Q' 和 '.' 分别代表了皇后和空位。\n",
    "\n",
    "示例:\n",
    "\n",
    "输入: 4\n",
    "输出: [\n",
    " [\".Q..\",  // 解法 1\n",
    "  \"...Q\",\n",
    "  \"Q...\",\n",
    "  \"..Q.\"],\n",
    "\n",
    " [\"..Q.\",  // 解法 2\n",
    "  \"Q...\",\n",
    "  \"...Q\",\n",
    "  \".Q..\"]\n",
    "]\n",
    "解释: 4 皇后问题存在两个不同的解法。"
   ]
  },
  {
   "cell_type": "code",
   "execution_count": 1,
   "metadata": {
    "ExecuteTime": {
     "end_time": "2019-01-13T02:18:57.456775Z",
     "start_time": "2019-01-13T02:18:57.429765Z"
    }
   },
   "outputs": [],
   "source": [
    "class Solution:\n",
    "    def __init__(self):\n",
    "        self.res = []\n",
    "    def solveNQueens(self, n):\n",
    "        \"\"\"\n",
    "        :type n: int\n",
    "        :rtype: List[List[str]]\n",
    "        \"\"\"\n",
    "        a = [0 for _ in range(n)]\n",
    "        self.back(a,0,n)\n",
    "        return self.res\n",
    "\n",
    "    def check(self, a, k):\n",
    "        for i in range(k):\n",
    "            if a[i] == a[k] or abs(a[i]-a[k]) == k-i:\n",
    "                return False\n",
    "        return True\n",
    "\n",
    "    def back(self, a, k,n):\n",
    "        if k >= n:\n",
    "            l = []\n",
    "            for pos in a:\n",
    "                str = ['.' for _ in range(len(a))]\n",
    "                str[pos-1] = 'Q'\n",
    "                l.append(''.join(str))\n",
    "            self.res.append(l)\n",
    "        else:\n",
    "            for i in range(1,n+1):\n",
    "                a[k] = i\n",
    "                if self.check(a,k):\n",
    "                    self.back(a,k+1,n)"
   ]
  },
  {
   "cell_type": "markdown",
   "metadata": {},
   "source": [
    "**37. 解数独**     \n",
    "https://leetcode-cn.com/problems/sudoku-solver/submissions/     \n",
    "https://www.cnblogs.com/grandyang/p/4421852.html     \n"
   ]
  },
  {
   "cell_type": "code",
   "execution_count": 2,
   "metadata": {
    "ExecuteTime": {
     "end_time": "2019-01-13T04:08:35.144474Z",
     "start_time": "2019-01-13T04:08:35.107446Z"
    }
   },
   "outputs": [],
   "source": [
    "class Solution:\n",
    "    def solveSudoku(self, board):\n",
    "        \"\"\"\n",
    "        :type board: List[List[str]]\n",
    "        :rtype: void Do not return anything, modify board in-place instead.\n",
    "        \"\"\"\n",
    "        if board == [] or len(board) != 9 or len(board[0]) != 9:\n",
    "            return\n",
    "        else:\n",
    "            self.dfs(board,0,0)\n",
    "            \n",
    "    def dfs(self, board,i,j):\n",
    "        if i == 9:\n",
    "            return True\n",
    "        elif j >= 9:\n",
    "            return self.dfs(board, i+1, 0)\n",
    "        elif board[i][j] == '.':\n",
    "            for k in range(1,10):\n",
    "                board[i][j] = str(k)\n",
    "                if self.check(board, i, j):\n",
    "                    if self.dfs(board,i,j+1):\n",
    "                        return True\n",
    "                board[i][j] = '.'\n",
    "        else:\n",
    "            return self.dfs(board,i,j+1)\n",
    "        return False\n",
    "    \n",
    "    def check(self, board, i, j):\n",
    "        #判断每行是否合法\n",
    "        for col in range(9):\n",
    "            if col != j and board[i][j] == board[i][col]:\n",
    "                return False\n",
    "        #判断每列是否合法\n",
    "        for row in range(9):\n",
    "            if row != i and board[i][j] == board[row][j]:\n",
    "                return False\n",
    "        #判断每个小方块里是否合法\n",
    "        for row in range(i//3 *3, i//3 *3 + 3):\n",
    "            for col in range(j//3 *3, j//3 * 3 + 3):\n",
    "                if row != i and col != j and board[i][j] == board[row][col]:\n",
    "                    return False\n",
    "        return True\n",
    "                "
   ]
  },
  {
   "cell_type": "markdown",
   "metadata": {},
   "source": [
    "**正则表达式匹配**   \n",
    "https://leetcode-cn.com/problems/regular-expression-matching/   \n",
    "给定一个字符串 (s) 和一个字符模式 (p)。实现支持 '.' 和 '*' 的正则表达式匹配。   \n",
    "'.' 匹配任意单个字符。   \n",
    "'*' 匹配零个或多个前面的元素。   \n",
    ">思路：   \n",
    "1. 回溯递归：  \n",
    "我们先来判断p是否为空，若为空则根据s的为空的情况返回结果。当p的第二个字符为*号时，由于*号前面的字符的个数可以任意，可以为0，那么我们先用递归来调用为0的情况，就是直接把这两个字符去掉再比较，或者当s不为空，且第一个字符和p的第一个字符相同时，我们再对去掉首字符的s和p调用递归，注意p不能去掉首字符，因为*号前面的字符可以有无限个；如果第二个字符不为*号，那么我们就老老实实的比较第一个字符，然后对后面的字符串调用递归，http://www.cnblogs.com/grandyang/p/4461713.html    \n",
    "2. dp回溯"
   ]
  },
  {
   "cell_type": "code",
   "execution_count": 1,
   "metadata": {
    "ExecuteTime": {
     "end_time": "2018-12-23T05:39:13.300756Z",
     "start_time": "2018-12-23T05:39:13.269732Z"
    }
   },
   "outputs": [],
   "source": [
    "#回溯递归\n",
    "class Solution(object):\n",
    "    def isMatch(self, s, p):\n",
    "        \"\"\"\n",
    "        :type s: str\n",
    "        :type p: str\n",
    "        :rtype: bool\n",
    "        \"\"\"\n",
    "        if p == '':\n",
    "            return s == ''\n",
    "        if len(p) > 1 and p[1] == '*':\n",
    "            return self.isMatch(s,p[2:]) or (len(s) > 0 and (s[0] == p[0] or p[0] == '.') and self.isMatch(s[1:], p))\n",
    "        else:\n",
    "            return len(s) > 0 and (s[0] == p[0] or p[0] == '.') and self.isMatch(s[1:],p[1:])\n",
    "\n",
    "#dp回溯\n",
    "class Solution:\n",
    "    def isMatch(self, s, p):\n",
    "        \"\"\"\n",
    "        :type s: str\n",
    "        :type p: str\n",
    "        :rtype: bool\n",
    "        \"\"\"\n",
    "        m = len(s)\n",
    "        n = len(p)\n",
    "        dp = [[False for _ in range(n+1)] for _ in range(m+1)]\n",
    "        dp[0][0] = True\n",
    "        for i in range(m+1):\n",
    "            for j in range(1,n+1):\n",
    "                if j > 1 and p[j-1] == '*':\n",
    "                    dp[i][j] = dp[i][j-2] or (i > 0 and (s[i-1] == p[j-2] or p[j-2] == '.') and dp[i-1][j]) \n",
    "                else:\n",
    "                    dp[i][j] = i>0 and dp[i-1][j-1] and (s[i-1] == p[j-1] or p[j-1] == '.')\n",
    "        return dp[-1][-1]"
   ]
  },
  {
   "cell_type": "markdown",
   "metadata": {},
   "source": [
    "**匹配通配符**     \n",
    "https://leetcode-cn.com/problems/wildcard-matching/      \n",
    "给定一个字符串 (s) 和一个字符模式 (p) ，实现一个支持 '?' 和 '*' 的通配符匹配。   \n",
    "'?' 可以匹配任何单个字符。   \n",
    "'*' 可以匹配任意字符串（包括空字符串）。  \n"
   ]
  },
  {
   "cell_type": "code",
   "execution_count": 2,
   "metadata": {
    "ExecuteTime": {
     "end_time": "2018-12-23T07:12:20.320524Z",
     "start_time": "2018-12-23T07:12:20.295507Z"
    }
   },
   "outputs": [],
   "source": [
    "class Solution:\n",
    "    def isMatch(self, s, p):\n",
    "        \"\"\"\n",
    "        :type s: str\n",
    "        :type p: str\n",
    "        :rtype: bool\n",
    "        \"\"\"\n",
    "        m = len(s)\n",
    "        n = len(p)\n",
    "        dp = [[False for _ in range(n+1)] for _ in range(m+1)]\n",
    "        dp[0][0] = True\n",
    "        for j in range(1,n+1):\n",
    "            if p[j-1] == \"*\":\n",
    "                dp[0][j] = dp[0][j-1]\n",
    "        \n",
    "        for i in range(1,m+1):\n",
    "            for j in range(1,n+1):\n",
    "                #若p当前为*，则既可以匹配0也可以匹配其他字符\n",
    "                if p[j-1] == \"*\":\n",
    "                    dp[i][j] = (dp[i-1][j] or dp[i][j-1])\n",
    "                elif p[j-1] == '?' or p[j-1]==s[i-1]:\n",
    "                    dp[i][j] = dp[i-1][j-1]\n",
    "        return dp[-1][-1]"
   ]
  },
  {
   "cell_type": "code",
   "execution_count": null,
   "metadata": {},
   "outputs": [],
   "source": []
  }
 ],
 "metadata": {
  "kernelspec": {
   "display_name": "Python 3",
   "language": "python",
   "name": "python3"
  },
  "language_info": {
   "codemirror_mode": {
    "name": "ipython",
    "version": 3
   },
   "file_extension": ".py",
   "mimetype": "text/x-python",
   "name": "python",
   "nbconvert_exporter": "python",
   "pygments_lexer": "ipython3",
   "version": "3.5.5"
  },
  "varInspector": {
   "cols": {
    "lenName": 16,
    "lenType": 16,
    "lenVar": 40
   },
   "kernels_config": {
    "python": {
     "delete_cmd_postfix": "",
     "delete_cmd_prefix": "del ",
     "library": "var_list.py",
     "varRefreshCmd": "print(var_dic_list())"
    },
    "r": {
     "delete_cmd_postfix": ") ",
     "delete_cmd_prefix": "rm(",
     "library": "var_list.r",
     "varRefreshCmd": "cat(var_dic_list()) "
    }
   },
   "types_to_exclude": [
    "module",
    "function",
    "builtin_function_or_method",
    "instance",
    "_Feature"
   ],
   "window_display": false
  }
 },
 "nbformat": 4,
 "nbformat_minor": 2
}
