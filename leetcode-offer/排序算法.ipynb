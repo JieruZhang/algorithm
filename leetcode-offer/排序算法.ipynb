{
 "cells": [
  {
   "cell_type": "markdown",
   "metadata": {},
   "source": [
    "### 1. 排序基础算法\n",
    "冒泡，选择，插入，归并，快速，堆，希尔，计数，基数。   \n",
    "**时间复杂度**：  \n",
    "$O(n^2)$ : 冒泡，选择，插入。  \n",
    "$O(n^{1.3})$ ：希尔。   \n",
    "$O(n+k)$ ：计数。  \n",
    "$O(n*k)$ ：基数。  \n",
    "$O(nlogn)$ : 归并，快速，堆。  \n",
    "\n",
    "**空间复杂度**：  \n",
    "$O(1)$: 冒泡，选择，插入，希尔，堆。 \n",
    "$O(nlogn)$: 快速。  \n",
    "$O(n)$：归并，   \n",
    "$O(n+k)$; 计数，基数。    \n",
    "\n",
    "**不稳定**：希尔，选择，堆，快速。\n",
    "\n",
    "**当数组大部分有序时，效果较好的排序法：**   \n",
    "插入排序。因为对于插入排序，只有在需要移动元素时才进行第二次循环，若数组大部分有序，则插入的时间复杂度可以降低到O(n)。而对于快排，仍然需要设定中间值，大的排右边，小的拍左边，反而会使时间复杂度增加到大于nlogn。而对于堆排序，选择排序，冒泡排序，仍然需要原来的时间复杂度，只是不需要交换元素而已。**因此对于大部分有序数组：快排最差，插入最好。**而堆排序对于大部分有序或大部分无序，都差不多。 \n",
    "参考：http://s2.nowcoder.com/study/vod/1"
   ]
  },
  {
   "cell_type": "code",
   "execution_count": 1,
   "metadata": {
    "ExecuteTime": {
     "end_time": "2018-12-14T03:14:20.461454Z",
     "start_time": "2018-12-14T03:14:20.380374Z"
    }
   },
   "outputs": [],
   "source": [
    "#冒泡排序\n",
    "def bubbleSort(A, n):\n",
    "    for i in range(n):\n",
    "        for j in range(n-i-1):\n",
    "            if A[j] > A[j+1]:\n",
    "                A[j], A[j+1] = A[j+1], A[j]\n",
    "    return A\n",
    "    \n",
    "#选择排序\n",
    "def selectionSort( A, n):\n",
    "    for i in range(n-1):\n",
    "        for j in range(i+1,n):\n",
    "            if A[j] < A[i]:\n",
    "                A[j], A[i] = A[i], A[j]\n",
    "    return A\n",
    "\n",
    "#插入排序\n",
    "def insertionSort(A, n):\n",
    "    for i in range(1,n):\n",
    "        temp = A[i]\n",
    "        j = i-1\n",
    "        while j >= 0 and A[j] > temp:\n",
    "            A[j+1] = A[j]\n",
    "            j -= 1\n",
    "        A[j+1] = temp\n",
    "    return A\n",
    "\n",
    "#希尔排序（带步长的插入排序）\n",
    "class ShellSort:\n",
    "    def shellSort(self, A, n):\n",
    "        # write code here\n",
    "        step = n/2\n",
    "        while step > 0:\n",
    "            for i in range(step, n):\n",
    "                cur = A[i]\n",
    "                pre = i - step\n",
    "                while pre >= 0 and A[pre] > cur:\n",
    "                    A[pre+step] = A[pre]\n",
    "                    pre -= step\n",
    "                A[pre + step] = cur\n",
    "            step = step/2\n",
    "        return A\n",
    "    \n",
    "#归并排序\n",
    "def mergeSort( A, n):\n",
    "    sort(A, 0, n-1)\n",
    "    return A\n",
    "\n",
    "def sort(A, left, right):\n",
    "    if left >= right:\n",
    "        return\n",
    "    mid = int((left+right)/2)\n",
    "    sort(A, left, mid)\n",
    "    sort(A, mid+1, right)\n",
    "    merge(A, left, mid, right)\n",
    "\n",
    "def merge( A, left, mid, right):\n",
    "    if left >= right:\n",
    "        return\n",
    "    i = left\n",
    "    j = mid+1\n",
    "    temp = []\n",
    "    while i <= mid and j <= right:\n",
    "        if A[i] < A[j]:\n",
    "            temp.append(A[i])\n",
    "            i+=1\n",
    "        else:\n",
    "            temp.append(A[j])\n",
    "            j+=1\n",
    "    if i <= mid:\n",
    "        temp += A[i:mid+1]\n",
    "    elif j <= right:\n",
    "        temp += A[j:right+1]\n",
    "    A[left:right+1] = temp\n",
    "    \n",
    "#快排\n",
    "class QuickSort:\n",
    "    def quickSort(self, A, n):\n",
    "        if n <= 1:\n",
    "            return A\n",
    "        self.sort(A, 0, n-1)\n",
    "        return A\n",
    "    \n",
    "    def sort(self, A, left, right):\n",
    "        if left >= right:\n",
    "            return\n",
    "        mid = self.partition(A, left, right)\n",
    "        self.sort(A,left,mid-1)\n",
    "        self.sort(A, mid+1, right)\n",
    "        \n",
    "    def partition(self, A, left, right):\n",
    "        if left >= right:\n",
    "            return\n",
    "        key = right\n",
    "        while left < right:\n",
    "            while left < right and A[left] <= A[key]:\n",
    "                left += 1\n",
    "            while left < right and A[right] >= A[key]:\n",
    "                right -= 1\n",
    "            A[left], A[right] = A[right], A[left]\n",
    "        A[key], A[left] = A[left], A[key]\n",
    "        return left\n",
    "\n",
    "#堆排序\n",
    "class HeapSort:\n",
    "    def heapSort(self, arr, n):\n",
    "        #从最后一个非叶子节点开始调整堆，形成大顶堆\n",
    "        for i in range(n//2 -1, -1, -1):\n",
    "            arr = self.adjustHeap(arr, i, n)\n",
    "        #交换堆顶和堆尾元素，再对刨去堆尾的堆调整堆\n",
    "        for j in range(n-1,0,-1):\n",
    "            arr[0],arr[j] = arr[j],arr[0]\n",
    "            arr = self.adjustHeap(arr,0,j)\n",
    "        return arr\n",
    "            \n",
    "    def adjustHeap(self, arr, start, end):\n",
    "        temp = start\n",
    "        i = start*2+1\n",
    "        while i < end:\n",
    "            if i +1 < end and arr[i+1] > arr[i]:\n",
    "                i+=1\n",
    "            if arr[i] > arr[temp]:\n",
    "                arr[temp],arr[i] = arr[i],arr[temp]\n",
    "                temp = i\n",
    "                i = i*2+1\n",
    "            else:\n",
    "                break\n",
    "        return arr\n",
    "    \n",
    "#计数排序\n",
    "class CountingSort:\n",
    "    def countingSort(self, A, n):\n",
    "        temp = [0 for i in range(max(A)+1)]\n",
    "        for i in range(n):\n",
    "            temp[A[i]]+=1\n",
    "        res = []\n",
    "        for i in range(len(temp)):\n",
    "            for j in range(temp[i]):\n",
    "                res.append(i)\n",
    "        return res\n",
    "    \n",
    "#基数排序\n",
    "class RadixSort:\n",
    "    def radixSort(self, A, n):\n",
    "        # write code here\n",
    "        #找最高位\n",
    "        num = max(A)\n",
    "        high = len(str(num))\n",
    "        for k in range(high):\n",
    "            temp = [[] for i in range(10)]\n",
    "            res = []\n",
    "            for i in range(n):\n",
    "                temp[(A[i]/(10**k))%10].append(A[i])\n",
    "            for i in range(10):\n",
    "                for j in range(len(temp[i])):\n",
    "                    res.append(temp[i][j])\n",
    "            A = res\n",
    "        return A"
   ]
  },
  {
   "cell_type": "markdown",
   "metadata": {},
   "source": [
    "### 2.进阶算法题     \n",
    "1. 小范围有序数组    \n",
    "已知一个几乎有序的数组，几乎有序是指，如果把数组排好顺序的话，每个元素移动的距离可以不超过k，并且k相对于数组来说比较小。请选择一个合适的排序算法针对这个数据进行排序。\n",
    "给定一个int数组A，同时给定A的大小n和题意中的k，请返回排序后的数组。\n",
    "测试样例：\n",
    ">[2,1,4,3,6,5,8,7,10,9],10,2   \n",
    ">返回：[1,2,3,4,5,6,7,8,9,10]   \n",
    "\n",
    "\n",
    "思路：题意是说“只需要每k个一组排序即可”，方法可借鉴堆排序，但是只需要k个一组调整堆结构即可，伪代码如下：  \n",
    "1. 取前k个构建小顶堆；\n",
    "2. 然后从0到n-k遍历，k个一组，每一次把小顶堆堆顶（最小值）和原组中第一个元素交换，然后后移一位，将后移位的元素赋给原堆顶，此时堆变为无序，调整堆结构。\n",
    "3. 剩下k个元素，只需逐步调整小顶堆，后移，调整小顶堆即可。"
   ]
  },
  {
   "cell_type": "code",
   "execution_count": 2,
   "metadata": {
    "ExecuteTime": {
     "end_time": "2018-12-14T05:44:41.404364Z",
     "start_time": "2018-12-14T05:44:41.372351Z"
    }
   },
   "outputs": [
    {
     "name": "stdout",
     "output_type": "stream",
     "text": [
      "[1, 2, 3, 4, 4, 5, 6, 7, 8, 8]\n"
     ]
    }
   ],
   "source": [
    "def sort(A, n, k):\n",
    "    #前k个元素构建小顶堆\n",
    "    heap = buildHeap(A[:k+1], k)\n",
    "    #循环\n",
    "    for i in range(n-k):\n",
    "        #把调整好的小顶堆堆顶（最小值）赋给待排数组\n",
    "        A[i] = heap[0]\n",
    "        #将待排数组当前位置k个以外的赋给小顶堆，重新调整小顶堆\n",
    "        heap[0] = A[i+k]\n",
    "        heap = justify(heap, 0, k)\n",
    "    #剩下最后k个元素，依次递减地调整小顶堆\n",
    "    for i in range(n-k, n):\n",
    "        A[i] = heap[0]\n",
    "        #将heap最后元素和堆顶元素交换，因为堆顶已经不需要参与排序了\n",
    "        k -= 1\n",
    "        heap = justify(heap[:k], 0,k)\n",
    "    return A\n",
    "\n",
    "#构建小顶堆\n",
    "def buildHeap(heap, k):\n",
    "    #从最后一个父节点开始\n",
    "    for i in range(k//2-1, -1, -1):\n",
    "        heap = justify(heap, i, k)\n",
    "    return heap\n",
    "#调整小顶堆\n",
    "def justify(heap, start, end):\n",
    "    #start为父节点，i为第一个子节点\n",
    "    i = 2*start+1\n",
    "    while i < end:\n",
    "        #找到最小的子节点\n",
    "        if heap[i+1] < heap[i]:\n",
    "            i += 1\n",
    "        #若两个子节点中最小的比父节点小，则需要交换\n",
    "        if heap[i] < heap[start]:\n",
    "            heap[start], heap[i] = heap[i], heap[start]\n",
    "            #交换后破坏了子树的小顶堆结构，继续调整\n",
    "            start = i\n",
    "            i = 2*start+1\n",
    "        #若两个子节点的最小值比父节点大，说明小顶堆结构不需要调整，直接跳出\n",
    "        else:\n",
    "            break\n",
    "    return heap\n",
    "\n",
    "print(sort([2,1,4,3,6,5,8,7,10,9],10,2))"
   ]
  },
  {
   "cell_type": "markdown",
   "metadata": {},
   "source": [
    "2. 小有序数组合并到大有序数组    \n",
    "有两个从小到大排序以后的数组A和B，其中A的末端有足够的缓冲空容纳B。请编写一个方法，将B合并入A并排序。给定两个有序int数组A和B，A中的缓冲空用0填充，同时给定A和B的真实大小int n和int m，请返回合并后的数组。    \n",
    ">输入：[1,3,5,0,0,0], [2,4,6], 3,3  \n",
    ">输出：[1,2,3,4,5,6]    \n",
    "\n",
    "思路：类似于插入排序，依次对比A和B中元素大小，若B的小，则把A当前位置以后的所有数向后移动，然后把当前B值插入。注意要时刻更新n的大小，因为A的大小随着B的插入会变长。"
   ]
  },
  {
   "cell_type": "code",
   "execution_count": 3,
   "metadata": {
    "ExecuteTime": {
     "end_time": "2018-12-14T06:36:58.629679Z",
     "start_time": "2018-12-14T06:36:58.608668Z"
    }
   },
   "outputs": [
    {
     "name": "stdout",
     "output_type": "stream",
     "text": [
      "[1, 2, 3, 4, 5, 6]\n"
     ]
    }
   ],
   "source": [
    "def mergeAB( A, B, n, m):\n",
    "    # write code here\n",
    "    #边合并边后移\n",
    "    i = 0\n",
    "    j = 0\n",
    "    while i < n and j < m:\n",
    "        if A[i]>B[j]:\n",
    "            #将A整体后移\n",
    "            for k in range(n, i,-1):\n",
    "                A[k] = A[k-1]\n",
    "            A[i] = B[j]\n",
    "            i += 1\n",
    "            j += 1\n",
    "            #A数组的长度又增加了，则需要n+1\n",
    "            n += 1\n",
    "        else:\n",
    "            i += 1\n",
    "    #若B 数组还没有完全插入到A中，则说明B中的元素都是大的，则直接插入到A的后面\n",
    "    if j < m:\n",
    "        A[i:] = B[j:]\n",
    "    return A\n",
    "\n",
    "print(mergeAB([1,3,5,0,0,0], [2,4,6], 3,3))"
   ]
  },
  {
   "cell_type": "markdown",
   "metadata": {
    "ExecuteTime": {
     "end_time": "2018-12-14T06:45:25.565570Z",
     "start_time": "2018-12-14T06:45:25.551587Z"
    }
   },
   "source": [
    "3. 荷兰三色国旗问题：     \n",
    "https://leetcode-cn.com/problems/sort-colors/submissions/    \n",
    "> 输入：[1,1,0,2,0,2,1]      \n",
    "> 输出：[0,0,1,1,1,2,2]     \n",
    "\n",
    "思路：设置两个指针，分别指向数组最左最右，遍历数组，遇到0则和左指针交换值然后左指针向右走，遇到2则和右指针交换值然后右指针向左走，\n",
    "遇到1则向后走，直到遍历到右指针的位置。"
   ]
  },
  {
   "cell_type": "code",
   "execution_count": 33,
   "metadata": {
    "ExecuteTime": {
     "end_time": "2018-12-14T12:57:37.455325Z",
     "start_time": "2018-12-14T12:57:37.439315Z"
    }
   },
   "outputs": [
    {
     "name": "stdout",
     "output_type": "stream",
     "text": [
      "[0, 0, 1, 1, 2, 2]\n"
     ]
    }
   ],
   "source": [
    "def helan(arr):\n",
    "    if len(arr) <= 1:\n",
    "        return arr\n",
    "    l = 0\n",
    "    r = len(arr)-1\n",
    "    i = 0\n",
    "    while i <= r and l <= r:\n",
    "        if arr[i] == 0:\n",
    "            arr[l], arr[i] = arr[i], arr[l]\n",
    "            l += 1\n",
    "            i+=1\n",
    "        elif arr[i] == 2:\n",
    "            arr[r],arr[i] = arr[i],arr[r]\n",
    "            r -= 1\n",
    "        elif arr[i] == 1:\n",
    "            i+=1\n",
    "    return arr\n",
    "\n",
    "print(helan([2,0,2,1,1,0]))"
   ]
  },
  {
   "cell_type": "markdown",
   "metadata": {},
   "source": [
    "4.矩阵中存在某值    \n",
    "现在有一个行和列都排好序的矩阵，请设计一个高效算法，快速查找矩阵中是否含有值x。\n",
    "给定一个int矩阵mat，同时给定矩阵大小nxm及待查找的数x，请返回一个bool值，代表矩阵中是否存在x。所有矩阵中数字及x均为int范围内整数。保证n和m均小于等于1000。   \n",
    "> 输入：[[1,2,3],[4,5,6],[7,8,9]],3,3,10   \n",
    "> 输出：false    \n",
    "\n",
    "思路：跟右上角比，小于右上角就往左走，大于就往下走。"
   ]
  },
  {
   "cell_type": "code",
   "execution_count": 17,
   "metadata": {
    "ExecuteTime": {
     "end_time": "2018-12-14T07:55:16.031771Z",
     "start_time": "2018-12-14T07:55:16.016766Z"
    }
   },
   "outputs": [
    {
     "name": "stdout",
     "output_type": "stream",
     "text": [
      "False\n"
     ]
    }
   ],
   "source": [
    "def findX(mat, n, m, x):\n",
    "    #跟右上角的比，小于就往左走，大于就往下走\n",
    "    i = 0\n",
    "    j = m-1\n",
    "    while i < n and j >= 0:\n",
    "        if x < mat[i][j]:\n",
    "            j-=1\n",
    "        elif x > mat[i][j]:\n",
    "            i += 1\n",
    "        elif x == mat[i][j]:\n",
    "            return True\n",
    "    return False\n",
    "print(findX([[1,2,3],[4,5,6],[7,8,9]],3,3,10))"
   ]
  },
  {
   "cell_type": "markdown",
   "metadata": {},
   "source": [
    "5. 最短需要排序子数组    \n",
    "对于一个数组，请设计一个高效算法计算需要排序的最短子数组的长度。\n",
    "给定一个int数组A和数组的大小n，请返回一个二元组，代表所求序列的长度。(原序列位置从0开始标号,若原序列有序，返回0)。保证A中元素均为正整数。   \n",
    "\n",
    "> 输入：[1,4,6,5,9,10],6     \n",
    "返回：2      \n",
    "\n",
    "思路：从最到右应该递增，则最大值应该一直更新，但若出现某值小于最大值，说明该位置是在子数组里面，知道遍历完，最后一个无法使最大值更新的值即为子数组最右值。同理从右到左。"
   ]
  },
  {
   "cell_type": "code",
   "execution_count": 19,
   "metadata": {
    "ExecuteTime": {
     "end_time": "2018-12-14T08:13:40.732935Z",
     "start_time": "2018-12-14T08:13:40.716922Z"
    }
   },
   "outputs": [
    {
     "name": "stdout",
     "output_type": "stream",
     "text": [
      "2\n"
     ]
    }
   ],
   "source": [
    "def fun(arr,n):\n",
    "    minval = arr[n-1]\n",
    "    maxval = arr[0]\n",
    "    l = 0\n",
    "    r = 0\n",
    "    for i in range(1,n):\n",
    "        if arr[i] >= maxval:\n",
    "            maxval = arr[i]\n",
    "        else:\n",
    "            r = i\n",
    "    for i in range(n-2,-1,-1):\n",
    "        if arr[i] <= minval:\n",
    "            minval = arr[i]\n",
    "        else:\n",
    "            l = i\n",
    "    if l == r:\n",
    "        return 0\n",
    "    else:\n",
    "        return r-l+1\n",
    "print(fun([1,4,6,5,9,10],6))    "
   ]
  },
  {
   "cell_type": "markdown",
   "metadata": {
    "ExecuteTime": {
     "end_time": "2018-12-14T08:57:49.132474Z",
     "start_time": "2018-12-14T08:57:49.120493Z"
    }
   },
   "source": [
    "6. 求数组中逆序对   \n",
    "在数组中的两个数字，如果前面一个数字大于后面的数字，则这两个数字组成一个逆序对。输入一个数组,求出这个数组中的逆序对的总数P。并将P对1000000007取模的结果输出。 即输出P%1000000007。   \n",
    "\n",
    "> 输入：1,2,3,4,5,6,7,0    \n",
    "输出：7     \n",
    "\n",
    "思路：归并排序，mergeA和B数组时计算count， 若A中第i个数比B中第j个数大，说明A中从i往后的数都比B[j]大，则更新count的值。"
   ]
  },
  {
   "cell_type": "code",
   "execution_count": 21,
   "metadata": {
    "ExecuteTime": {
     "end_time": "2018-12-14T09:01:07.797168Z",
     "start_time": "2018-12-14T09:01:07.770149Z"
    }
   },
   "outputs": [
    {
     "name": "stdout",
     "output_type": "stream",
     "text": [
      "7\n"
     ]
    }
   ],
   "source": [
    "class Solution:\n",
    "    def __init__(self):\n",
    "        self.res = 0\n",
    "    def InversePairs(self, data):\n",
    "        '''\n",
    "        #暴力求解=>选择排序\n",
    "        for i in range(len(data)):\n",
    "            for j in range(i+1,len(data)):\n",
    "                if data[j] < data[i]:\n",
    "                    self.res += 1\n",
    "        return self.res%1000000007\n",
    "        '''\n",
    "        self.sort(data, 0, len(data)-1)\n",
    "        return self.res%1000000007\n",
    "    \n",
    "    def sort(self,data, l, r):\n",
    "        if l >= r:\n",
    "            return\n",
    "        mid = int((l+r)/2)\n",
    "        self.sort(data,l,mid)\n",
    "        self.sort(data,mid+1,r)\n",
    "        self.merge(data, l, mid, r)\n",
    "        return \n",
    "        \n",
    "    def merge(self, data, l, mid, r):\n",
    "        if l >= r:\n",
    "            return\n",
    "        temp = []\n",
    "        i = l\n",
    "        j = mid+1\n",
    "        while i <= mid and j <= r:\n",
    "            if data[i] <= data[j]:\n",
    "                temp.append(data[i])\n",
    "                i += 1\n",
    "            else:\n",
    "                temp.append(data[j])\n",
    "                #关键：当第一个数组中第i个大于第二个数组中第j个时，说明数组1中i后面所有的都大于数组2中第j个\n",
    "                self.res += (mid-i+1)\n",
    "                self.res %= 1000000007\n",
    "                j += 1\n",
    "                \n",
    "        if i <= mid:\n",
    "            temp += data[i:mid+1]\n",
    "        elif j <= r:\n",
    "            temp += data[j:r+1]\n",
    "        data[l:r+1] = temp\n",
    "        return \n",
    "s = Solution()\n",
    "print(s.InversePairs([1,2,3,4,5,6,7,0]))"
   ]
  },
  {
   "cell_type": "markdown",
   "metadata": {},
   "source": [
    "7. 合并区间     \n",
    "https://leetcode-cn.com/problems/merge-intervals/    \n",
    "https://leetcode-cn.com/problems/insert-interval/     \n",
    "给出一个区间的集合，请合并所有重叠的区间。  \n",
    "\n",
    ">示例 1:   \n",
    "输入: [[1,3],[2,6],[8,10],[15,18]]    \n",
    "输出: [[1,6],[8,10],[15,18]]    \n",
    "解释: 区间 [1,3] 和 [2,6] 重叠, 将它们合并为 [1,6].     \n",
    "\n",
    "\n",
    ">示例 2:    \n",
    "输入: [[1,4],[4,5]]   \n",
    "输出: [[1,5]]   \n",
    "解释: 区间 [1,4] 和 [4,5] 可被视为重叠区间。  \n",
    "\n",
    "思路：现将原区间集合按照开始位置递增排序，然后依次两两判断in[i]和in[i+1]，有两种情况：   \n",
    "1.若in[i+1].end <= in[i].end, 说明第一个区间把第二个全部包住了，因此直接舍弃第二个区间；   \n",
    "2.若不满足1，但是in[i+1].start <= in[i].end， 说明有部分重叠，两者合并后，舍弃第二个区间；   \n",
    "3.否则，则没有重叠部分，继续遍历。"
   ]
  },
  {
   "cell_type": "code",
   "execution_count": 22,
   "metadata": {
    "ExecuteTime": {
     "end_time": "2018-12-14T09:46:35.596704Z",
     "start_time": "2018-12-14T09:46:35.579692Z"
    }
   },
   "outputs": [],
   "source": [
    "# Definition for an interval.\n",
    "# class Interval:\n",
    "#     def __init__(self, s=0, e=0):\n",
    "#         self.start = s\n",
    "#         self.end = e\n",
    "\n",
    "import operator\n",
    "class Solution:\n",
    "    def merge(self, intervals):\n",
    "        \"\"\"\n",
    "        :type intervals: List[Interval]\n",
    "        :rtype: List[Interval]\n",
    "        \"\"\"\n",
    "        if len(intervals) <= 1:\n",
    "            return intervals\n",
    "        #先按照每个区间的起始位置递增排序\n",
    "        intervals = sorted(intervals,key=lambda x: x.start)\n",
    "        #然后依次遍历，两两比较\n",
    "        i = 0\n",
    "        while i < len(intervals)-1:\n",
    "            if intervals[i+1].end <= intervals[i].end:\n",
    "                intervals.pop(i+1)\n",
    "            elif intervals[i+1].start <= intervals[i].end:\n",
    "                intervals[i].end = intervals[i+1].end\n",
    "                intervals.pop(i+1) \n",
    "            else:\n",
    "                i += 1\n",
    "        return intervals"
   ]
  },
  {
   "cell_type": "markdown",
   "metadata": {},
   "source": [
    "8. 划分字母区间      \n",
    "https://leetcode-cn.com/problems/partition-labels/    \n",
    "字符串 S 由小写字母组成。我们要把这个字符串划分为尽可能多的片段，同一个字母只会出现在其中的一个片段。返回一个表示每个字符串片段的长度的列表。   \n",
    ">示例 1:   \n",
    "输入: S = \"ababcbacadefegdehijhklij\"      \n",
    "输出: [9,7,8]     \n",
    "解释:      \n",
    "划分结果为 \"ababcbaca\", \"defegde\", \"hijhklij\"。    \n",
    "每个字母最多出现在一个片段中。   \n",
    "像 \"ababcbacadefegde\", \"hijhklij\" 的划分是错误的，因为划分的片段数较少。    \n",
    "\n",
    "\n",
    "注意:    \n",
    "S的长度在[1, 500]之间。   \n",
    "S只包含小写字母'a'到'z'。   \n",
    "思路：类似于上一个的“合并区间”，步骤如下：    \n",
    "1. 计算出字符串中每个unique字母的最开始和最后出现的位置，作为一个区间；    \n",
    "2. 将所有区间计算出来放入一个列表里；   \n",
    "3. 使用第7个问题中计算重复区间，得到不重复的区间，则每个区间首尾之间的距离即为一个片段的长度。"
   ]
  },
  {
   "cell_type": "code",
   "execution_count": 25,
   "metadata": {
    "ExecuteTime": {
     "end_time": "2018-12-14T11:39:07.059176Z",
     "start_time": "2018-12-14T11:39:07.015143Z"
    }
   },
   "outputs": [
    {
     "name": "stdout",
     "output_type": "stream",
     "text": [
      "[9, 7, 8]\n"
     ]
    }
   ],
   "source": [
    "class Solution:\n",
    "    def partitionLabels(self, S):\n",
    "        \"\"\"\n",
    "        :type S: str\n",
    "        :rtype: List[int]\n",
    "        \"\"\"\n",
    "        #思路计算每个字母最开始和最后出现的位置，得到一个区间序列，然后按照合并重复区间的方法\n",
    "        #得到合并完成的序列，则每个子序列的长度即为每个字符串片段的长度\n",
    "        data = []\n",
    "        for ch in set(S):\n",
    "            data.append(self.findFirstandLast(ch, S))\n",
    "        return [l[1]-l[0]+1 for l in self.mergeInterval(data)]\n",
    "        \n",
    "    def findFirstandLast(self, ch, S):\n",
    "        start = 0\n",
    "        end = 0\n",
    "        for i in range(len(S)):\n",
    "            if S[i] == ch:\n",
    "                start = i\n",
    "                break\n",
    "        for i in range(len(S)-1,-1,-1):\n",
    "            if S[i] == ch:\n",
    "                end = i\n",
    "                break\n",
    "        return [start, end]\n",
    "        \n",
    "              \n",
    "    def mergeInterval(self, intervals):\n",
    "        intervals = sorted(intervals)\n",
    "        i = 0\n",
    "        while i < len(intervals)-1:\n",
    "            if intervals[i+1][1] <= intervals[i][1]:\n",
    "                intervals.pop(i+1)\n",
    "            elif intervals[i+1][0] <= intervals[i][1]:\n",
    "                intervals[i][1] = intervals[i+1][1]\n",
    "                intervals.pop(i+1)\n",
    "            else:\n",
    "                i+=1\n",
    "        return intervals\n",
    "s = Solution()\n",
    "print(s.partitionLabels(\"ababcbacadefegdehijhklij\"))"
   ]
  },
  {
   "cell_type": "markdown",
   "metadata": {},
   "source": [
    "9. 重复区间问题     \n",
    "https://leetcode-cn.com/problems/teemo-attacking/    \n",
    "在《英雄联盟》的世界中，有一个叫 “提莫” 的英雄，他的攻击可以让敌方英雄艾希（编者注：寒冰射手）进入中毒状态。现在，给出提莫对艾希的攻击时间序列和提莫攻击的中毒持续时间，你需要输出艾希的中毒状态总时长。你可以认为提莫在给定的时间点进行攻击，并立即使艾希处于中毒状态。   \n",
    "\n",
    ">示例1:    \n",
    "输入: [1,4], 2    \n",
    "输出: 4    \n",
    "原因: 在第 1 秒开始时，提莫开始对艾希进行攻击并使其立即中毒。中毒状态会维持 2 秒钟，直到第 2 秒钟结束。\n",
    "在第 4 秒开始时，提莫再次攻击艾希，使得艾希获得另外 2 秒的中毒时间。  \n",
    "所以最终输出 4 秒。  \n",
    "\n",
    ">示例2:   \n",
    "输入: [1,2], 2    \n",
    "输出: 3    \n",
    "原因: 在第 1 秒开始时，提莫开始对艾希进行攻击并使其立即中毒。中毒状态会维持 2 秒钟，直到第 2 秒钟结束。\n",
    "但是在第 2 秒开始时，提莫再次攻击了已经处于中毒状态的艾希。\n",
    "由于中毒状态不可叠加，提莫在第 2 秒开始时的这次攻击会在第 3 秒钟结束。\n",
    "所以最终输出 3。  \n",
    "\n",
    "思路；仍然是重复区间的计算问题，只不过要先转化成区间的列表格式。"
   ]
  },
  {
   "cell_type": "code",
   "execution_count": 30,
   "metadata": {
    "ExecuteTime": {
     "end_time": "2018-12-14T12:07:06.272931Z",
     "start_time": "2018-12-14T12:07:06.235903Z"
    }
   },
   "outputs": [
    {
     "name": "stdout",
     "output_type": "stream",
     "text": [
      "3\n"
     ]
    }
   ],
   "source": [
    "class Solution:\n",
    "    def findPoisonedDuration(self, timeSeries, duration):\n",
    "        \"\"\"\n",
    "        :type timeSeries: List[int]\n",
    "        :type duration: int\n",
    "        :rtype: int\n",
    "        \"\"\"\n",
    "        #也是合并重复区间的问题，先根据开始时间和区间长度计算出所有子区间，然后将重复的区间合并，最后计算虽有区间长度之和\n",
    "        data = []\n",
    "        for i in range(len(timeSeries)):\n",
    "            data.append([timeSeries[i], timeSeries[i]+duration-1])\n",
    "        data = self.mergeInterval(data)\n",
    "        return sum([item[1]-item[0]+1 for item in data])\n",
    "    \n",
    "    def mergeInterval(self, intervals):\n",
    "        if len(intervals) <= 1:\n",
    "            return intervals\n",
    "        i = 0\n",
    "        intervals = sorted(intervals)\n",
    "        while i < len(intervals)-1:\n",
    "            if intervals[i+1][1] <= intervals[i][1]:\n",
    "                intervals.pop(i+1)\n",
    "            elif intervals[i+1][0] <= intervals[i][1]:\n",
    "                intervals[i][1] = intervals[i+1][1]\n",
    "                intervals.pop(i+1)\n",
    "            else:\n",
    "                i+=1\n",
    "        return intervals\n",
    "    \n",
    "s = Solution()\n",
    "print(s.findPoisonedDuration([1,2], 2))"
   ]
  },
  {
   "cell_type": "markdown",
   "metadata": {},
   "source": [
    "10. 摆动排序      \n",
    "给定一个无序的数组 nums，将它重新排列成 nums[0] < nums[1] > nums[2] < nums[3]... 的顺序。   \n",
    "\n",
    "> 示例 1:  \n",
    "输入: nums = [1, 5, 1, 1, 6, 4]   \n",
    "输出: 一个可能的答案是 [1, 4, 1, 5, 1, 6]   \n",
    "\n",
    "思路：   \n",
    "1. 先给数组排序   \n",
    "2. 取中点，i从mid往左，j从最右往左，依次填入res数组   \n",
    "3. 最后res值赋给nums。    \n",
    "\n",
    "注意：   \n",
    "1.偶数取中点时均分两个子数组，技术则前一个比后一个多一个数；   \n",
    "2.注意题意要求改变原nums的数值，则需要用赋值语句: nums[:] = res[:] 而不是直接nums = res."
   ]
  },
  {
   "cell_type": "code",
   "execution_count": 34,
   "metadata": {
    "ExecuteTime": {
     "end_time": "2018-12-14T15:43:43.223210Z",
     "start_time": "2018-12-14T15:43:43.207197Z"
    }
   },
   "outputs": [],
   "source": [
    "class Solution:\n",
    "    def wiggleSort(self, nums):\n",
    "        \"\"\"\n",
    "        :type nums: List[int]\n",
    "        :rtype: void Do not return anything, modify nums in-place instead.\n",
    "        \"\"\"\n",
    "        if len(nums) <= 2:\n",
    "            nums[:] = sorted(nums)[:]        \n",
    "        #先给nums排序，取中点\n",
    "        #i从mid到0， j从最后到mid+1\n",
    "        if len(nums) > 2:\n",
    "            nums[:] = sorted(nums)[:]\n",
    "            res = []\n",
    "            mid = int((len(nums)-1)/2)\n",
    "            i = mid\n",
    "            j = len(nums)-1\n",
    "            while i >= 0 and j > mid:\n",
    "                res.append(nums[i])\n",
    "                res.append(nums[j])\n",
    "                i-=1\n",
    "                j-=1\n",
    "            if i >= 0:\n",
    "                res.append(nums[i])\n",
    "            nums[:] = res[:]"
   ]
  },
  {
   "cell_type": "code",
   "execution_count": null,
   "metadata": {},
   "outputs": [],
   "source": []
  }
 ],
 "metadata": {
  "kernelspec": {
   "display_name": "Python 3",
   "language": "python",
   "name": "python3"
  },
  "language_info": {
   "codemirror_mode": {
    "name": "ipython",
    "version": 3
   },
   "file_extension": ".py",
   "mimetype": "text/x-python",
   "name": "python",
   "nbconvert_exporter": "python",
   "pygments_lexer": "ipython3",
   "version": "3.5.5"
  },
  "varInspector": {
   "cols": {
    "lenName": 16,
    "lenType": 16,
    "lenVar": 40
   },
   "kernels_config": {
    "python": {
     "delete_cmd_postfix": "",
     "delete_cmd_prefix": "del ",
     "library": "var_list.py",
     "varRefreshCmd": "print(var_dic_list())"
    },
    "r": {
     "delete_cmd_postfix": ") ",
     "delete_cmd_prefix": "rm(",
     "library": "var_list.r",
     "varRefreshCmd": "cat(var_dic_list()) "
    }
   },
   "types_to_exclude": [
    "module",
    "function",
    "builtin_function_or_method",
    "instance",
    "_Feature"
   ],
   "window_display": false
  }
 },
 "nbformat": 4,
 "nbformat_minor": 2
}
