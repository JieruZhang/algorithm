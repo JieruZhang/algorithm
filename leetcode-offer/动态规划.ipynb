{
 "cells": [
  {
   "cell_type": "markdown",
   "metadata": {},
   "source": [
    "最长上升子序列   \n",
    "给定一个无序的整数数组，找到其中最长上升子序列的长度。  \n",
    "\n",
    "示例:   \n",
    "\n",
    "输入: [10,9,2,5,3,7,101,18]   \n",
    "输出: 4 \n",
    "解释: 最长的上升子序列是 [2,3,7,101]，它的长度是 4。   "
   ]
  },
  {
   "cell_type": "code",
   "execution_count": 1,
   "metadata": {
    "ExecuteTime": {
     "end_time": "2018-12-19T07:53:13.413955Z",
     "start_time": "2018-12-19T07:53:13.393933Z"
    }
   },
   "outputs": [],
   "source": [
    "class Solution(object):\n",
    "    def lengthOfLIS(self, nums):\n",
    "        \"\"\"\n",
    "        :type nums: List[int]\n",
    "        :rtype: int\n",
    "        \"\"\"\n",
    "        #动态规划 （O（n**2））\n",
    "        if nums == []:\n",
    "            return 0\n",
    "        dp = [1 for i in range(len(nums))]\n",
    "        for i in range(1,len(nums)):\n",
    "            for j in range(i):\n",
    "                if nums[j] < nums[i]:\n",
    "                    dp[i] = max(dp[j] + 1, dp[i])\n",
    "        return max(dp)"
   ]
  },
  {
   "cell_type": "markdown",
   "metadata": {},
   "source": [
    "#### 买卖股票的最佳时机\n",
    "1. 只允许一次交易的最大收益（一次买进卖出）**动态规划**： dp[i] = max(dp[i-1], prices[i] - minval)；   \n",
    "2. 允许多次交易的最大收益（多次买进卖出）**贪心算法**：只要盈利就交易；\n",
    "3. 只允许有两次交易的最大收益（两次买进卖出）**动态规划**：   \n",
    "1) dp1[i] = max(dp[i-1], prices[i] - minval) 从前往后遍历，表示第1天到第i天之间的最大利润（通过是否在第i天卖出确认）；   \n",
    "2) dp2[i] = max(dp[i+1], maxval - prices[i]) 从后往前遍历，表示第i天到最后一天之间的最大利润（通过是否在第i天买进确认）；    \n",
    "3) res = max(dp1 + dp2)，(dp1 + dp2)[i] 正好表示从第1天到最后一天经过两次交易的最大利润，我们的目标是知道令总利润最大的i。   \n",
    "4. 只允许k次交易的最大收益（k次买进卖出）**动态规划**:   \n",
    "local[i][j]表示第i天进行了j笔交易，且第j笔是在第i天完成的的最大收益；    \n",
    "global[i][j]表示第i天进行了j笔交易的最大收益，是目前为止全局最优，不规定第j笔在哪天完成。则递推公式为：   \n",
    "1) local[i][j] = max(global[i-1][j-1]+max(0, prices[i]-prices[i-1]), local[i-1][j]+prices[i]-prices[i-1])    \n",
    "2) global[i][j] = max(local[i][j], global[i-1][j])   \n",
    "3) 双重循环，计算最后取global[-1][-1]   \n",
    "4) 注意当k大于天数时，直接用贪心算法。    \n",
    "https://blog.csdn.net/linhuanmars/article/details/23236995    \n",
    "5. 有冷冻期的最大交易（一次买卖后需要冷冻一天）**动态规划**：   \n",
    "sell[i]表示截至第i天，最后一个操作是卖时的最大收益；         \n",
    "buy[i]表示截至第i天，最后一个操作是买时的最大收益；  \n",
    "cool[i]表示截至第i天，最后一个操作是冷冻期时的最大收益；     \n",
    "递推公式：  \n",
    "sell[i] = max(buy[i-1]+prices[i], sell[i-1])  (第一项表示第i天卖出，第二项表示第i天冷冻)     \n",
    "buy[i] = max(cool[i-1]-prices[i], buy[i-1])  （第一项表示第i天买进，第二项表示第i天冷冻）    \n",
    "cool[i] = max(sell[i-1], buy[i-1], cool[i-1])   \n",
    "https://www.cnblogs.com/grandyang/p/4997417.html    \n",
    "6. 有手续费的最大交易（每买卖一次都会扣除一次手续费） **动态规划**  \n",
    "dp1[i]表示第i天手上有股票，dp2[i]表示第i天手上没有股票，递归方程：    \n",
    "1) dp1[i] = max(dp1[i-1], dp2[i-1] - prices[i]) （第二项表示在第i天买入股票）    \n",
    "2) dp2[i] = max(dp2[i-1], dp1[i-1] + prices[i] - fee) （第二项表示在第i天将股票卖出，需扣除手续费）   "
   ]
  },
  {
   "cell_type": "code",
   "execution_count": 1,
   "metadata": {
    "ExecuteTime": {
     "end_time": "2018-12-21T12:18:39.689458Z",
     "start_time": "2018-12-21T12:18:39.615437Z"
    }
   },
   "outputs": [],
   "source": [
    "#买卖股票最佳时机I（只允许一次交易）\n",
    "class Solution(object):\n",
    "    def maxProfit(self, prices):\n",
    "        n = len(prices)\n",
    "        if n == 0:\n",
    "            return 0\n",
    "        dp = [0 for _ in range(n)]\n",
    "        minval = prices[0]\n",
    "        for i in range(1, n):\n",
    "            dp[i] = max(dp[i-1], prices[i] - minval)\n",
    "            minval = min(minval, prices[i])\n",
    "        return dp[-1]\n",
    "\n",
    "#买卖股票最佳时机II（允许多次交易）\n",
    "class Solution:\n",
    "    def maxProfit(self, prices):\n",
    "        #贪心算法，只要出现盈利情况，就算作一次交易\n",
    "        n = len(prices)\n",
    "        if n == 0:\n",
    "            return 0\n",
    "        res = 0\n",
    "        for i in range(1,n):\n",
    "            res += max(0, prices[i]-prices[i-1])\n",
    "        return res\n",
    "    \n",
    "#买卖股票最佳时机III（只允许两次交易）\n",
    "class Solution:\n",
    "    def maxProfit(self, prices):\n",
    "        n = len(prices)\n",
    "        if n < 2:\n",
    "            return 0\n",
    "        dp1 = [0 for _ in range(n)]\n",
    "        dp2 = [0 for _ in range(n)]\n",
    "        minval = prices[0]\n",
    "        maxval = prices[-1]\n",
    "        #前向\n",
    "        for i in range(1,n):\n",
    "            dp1[i] = max(dp1[i-1], prices[i] - minval)\n",
    "            minval = min(minval, prices[i])\n",
    "        #后向\n",
    "        for i in range(n-2,-1,-1):\n",
    "            dp2[i] = max(dp2[i+1], maxval - prices[i])\n",
    "            maxval = max(maxval, prices[i]) \n",
    "        dp = [dp1[i] + dp2[i] for i in range(n)]\n",
    "        return max(dp)\n",
    "    \n",
    "#买卖股票最佳时机IV（只允许k次交易）\n",
    "class Solution:\n",
    "    def maxProfit(self, k, prices):\n",
    "        if k <= 0 or len(prices) == 0:\n",
    "            return 0\n",
    "        if k > len(prices):\n",
    "            return self.greedy(prices)\n",
    "        l = [[0 for _ in range(k+1)] for _ in range(len(prices))]\n",
    "        g = [[0 for _ in range(k+1)] for _ in range(len(prices))]\n",
    "        for i in range(1,len(prices)):\n",
    "            diff = prices[i] - prices[i-1]\n",
    "            for j in range(1,k+1):\n",
    "                l[i][j] = max(g[i-1][j-1] + max(0, diff), l[i-1][j] + diff)\n",
    "                g[i][j] = max(l[i][j], g[i-1][j])\n",
    "        return g[-1][-1]\n",
    "                      \n",
    "    def greedy(self, prices):\n",
    "        res = 0\n",
    "        for i in range(1,len(prices)):\n",
    "            res += max(0, prices[i]-prices[i-1])\n",
    "        return res\n",
    "    \n",
    "#买卖股票最佳时机（含冷冻期）\n",
    "class Solution:\n",
    "    def maxProfit(self, prices):\n",
    "        n = len(prices)\n",
    "        if n == 0:\n",
    "            return 0      \n",
    "        sell = [0 for _ in range(n)]\n",
    "        buy = [0 for _ in range(n)]\n",
    "        cool = [0 for _ in range(n)]\n",
    "        buy[0] = -prices[0]\n",
    "        for i in range(1,n):\n",
    "            sell[i] = max(buy[i-1] + prices[i], sell[i-1])\n",
    "            buy[i] = max(cool[i-1] - prices[i], buy[i-1])\n",
    "            cool[i] = max(sell[i-1], buy[i-1],cool[i-1])\n",
    "        return sell[-1]\n",
    "    \n",
    "#买卖股票最佳时机（含手续费）\n",
    "class Solution:\n",
    "    def maxProfit(self, prices, fee):\n",
    "        n = len(prices)\n",
    "        if n < 2:\n",
    "            return 0\n",
    "        dp1 = [0 for _ in range(n)]#第i天手上有股票时的最大收益\n",
    "        dp2 = [0 for _ in range(n)]#第i天手上无股票时的最大收益\n",
    "        dp1[0] = -prices[0]\n",
    "        for i in range(1,n):\n",
    "            dp1[i] = max(dp1[i-1], dp2[i-1] - prices[i])\n",
    "            dp2[i] = max(dp2[i-1], dp1[i-1] + prices[i] - fee)\n",
    "        return dp2[n-1]"
   ]
  },
  {
   "cell_type": "code",
   "execution_count": null,
   "metadata": {},
   "outputs": [],
   "source": []
  }
 ],
 "metadata": {
  "kernelspec": {
   "display_name": "Python 3",
   "language": "python",
   "name": "python3"
  },
  "language_info": {
   "codemirror_mode": {
    "name": "ipython",
    "version": 3
   },
   "file_extension": ".py",
   "mimetype": "text/x-python",
   "name": "python",
   "nbconvert_exporter": "python",
   "pygments_lexer": "ipython3",
   "version": "3.5.5"
  },
  "varInspector": {
   "cols": {
    "lenName": 16,
    "lenType": 16,
    "lenVar": 40
   },
   "kernels_config": {
    "python": {
     "delete_cmd_postfix": "",
     "delete_cmd_prefix": "del ",
     "library": "var_list.py",
     "varRefreshCmd": "print(var_dic_list())"
    },
    "r": {
     "delete_cmd_postfix": ") ",
     "delete_cmd_prefix": "rm(",
     "library": "var_list.r",
     "varRefreshCmd": "cat(var_dic_list()) "
    }
   },
   "types_to_exclude": [
    "module",
    "function",
    "builtin_function_or_method",
    "instance",
    "_Feature"
   ],
   "window_display": false
  }
 },
 "nbformat": 4,
 "nbformat_minor": 2
}
