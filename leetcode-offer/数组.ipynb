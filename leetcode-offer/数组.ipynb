{
 "cells": [
  {
   "cell_type": "markdown",
   "metadata": {},
   "source": [
    "缺失数字   \n",
    "https://leetcode-cn.com/problems/missing-number/\n",
    "给定一个包含 0, 1, 2, ..., n 中 n 个数的序列，找出 0 .. n 中没有出现在序列中的那个数。   \n",
    ">思路：求和取差值即可。  "
   ]
  },
  {
   "cell_type": "code",
   "execution_count": 1,
   "metadata": {
    "ExecuteTime": {
     "end_time": "2018-12-19T02:39:57.322593Z",
     "start_time": "2018-12-19T02:39:57.307581Z"
    }
   },
   "outputs": [],
   "source": [
    "class Solution(object):\n",
    "    def missingNumber(self, nums):\n",
    "        \"\"\"\n",
    "        :type nums: List[int]\n",
    "        :rtype: int\n",
    "        \"\"\"\n",
    "        #求和，差值即为缺失的数\n",
    "        return sum(range(len(nums)+1)) - sum(nums)"
   ]
  },
  {
   "cell_type": "markdown",
   "metadata": {},
   "source": [
    "只出现一次的数字 I II III    \n",
    "I: 一个数组，只有一个数出现了一次，其余都两次，求该数；   \n",
    "II: 一个数组，只有一个数出现了一次，其余都是三次，求该数；    \n",
    "III：一个数组，只有两个数出现了两次，其余都出现了一次，求这两个数。   \n",
    ">思路：  \n",
    "先排序，再遍历判断即可。"
   ]
  },
  {
   "cell_type": "code",
   "execution_count": 2,
   "metadata": {
    "ExecuteTime": {
     "end_time": "2018-12-19T02:53:51.832836Z",
     "start_time": "2018-12-19T02:53:51.808816Z"
    }
   },
   "outputs": [],
   "source": [
    "class Solution(object):\n",
    "    def singleNumber(self, nums):\n",
    "        \"\"\"\n",
    "        :type nums: List[int]\n",
    "        :rtype: int\n",
    "        \"\"\"\n",
    "        #暴力，排序后遍历\n",
    "        nums = sorted(nums)\n",
    "        i = 0\n",
    "        while i < len(nums)-1:\n",
    "            if nums[i+1] == nums[i]:\n",
    "                i += 2\n",
    "            else:\n",
    "                return nums[i]\n",
    "        return nums[i]\n",
    "    \n",
    "    def singleNumber2(self, nums):\n",
    "        \"\"\"\n",
    "        :type nums: List[int]\n",
    "        :rtype: int\n",
    "        \"\"\"\n",
    "         #暴力，排序后遍历\n",
    "        nums = sorted(nums)\n",
    "        i = 0\n",
    "        while i < len(nums)-2:\n",
    "            if nums[i+1] == nums[i]:\n",
    "                i += 3\n",
    "            else:\n",
    "                return nums[i]\n",
    "        return nums[i]\n",
    "    \n",
    "    def singleNumber3(self, nums):\n",
    "        \"\"\"\n",
    "        :type nums: List[int]\n",
    "        :rtype: List[int]\n",
    "        \"\"\"\n",
    "         #暴力，排序后遍历\n",
    "        nums = sorted(nums)\n",
    "        i = 0\n",
    "        res = []\n",
    "        while i < len(nums)-1:\n",
    "            if nums[i+1] == nums[i]:\n",
    "                i += 2\n",
    "            else:\n",
    "                res.append(nums[i])\n",
    "                i += 1\n",
    "        if i == len(nums):\n",
    "            return res\n",
    "        else:\n",
    "            res.append(nums[i])\n",
    "            return res"
   ]
  },
  {
   "cell_type": "code",
   "execution_count": null,
   "metadata": {},
   "outputs": [],
   "source": []
  }
 ],
 "metadata": {
  "kernelspec": {
   "display_name": "Python 3",
   "language": "python",
   "name": "python3"
  },
  "language_info": {
   "codemirror_mode": {
    "name": "ipython",
    "version": 3
   },
   "file_extension": ".py",
   "mimetype": "text/x-python",
   "name": "python",
   "nbconvert_exporter": "python",
   "pygments_lexer": "ipython3",
   "version": "3.5.5"
  },
  "varInspector": {
   "cols": {
    "lenName": 16,
    "lenType": 16,
    "lenVar": 40
   },
   "kernels_config": {
    "python": {
     "delete_cmd_postfix": "",
     "delete_cmd_prefix": "del ",
     "library": "var_list.py",
     "varRefreshCmd": "print(var_dic_list())"
    },
    "r": {
     "delete_cmd_postfix": ") ",
     "delete_cmd_prefix": "rm(",
     "library": "var_list.r",
     "varRefreshCmd": "cat(var_dic_list()) "
    }
   },
   "types_to_exclude": [
    "module",
    "function",
    "builtin_function_or_method",
    "instance",
    "_Feature"
   ],
   "window_display": false
  }
 },
 "nbformat": 4,
 "nbformat_minor": 2
}
