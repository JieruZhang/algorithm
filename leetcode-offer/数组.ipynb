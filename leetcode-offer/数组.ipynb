{
 "cells": [
  {
   "cell_type": "markdown",
   "metadata": {},
   "source": [
    "### 数组相关\n",
    "常用技巧：  \n",
    "1. 双指针；   \n",
    "2. python内置remove，index， count，pop；    \n",
    "3. 找数学规律； \n",
    "4. 多数投票；  "
   ]
  },
  {
   "cell_type": "markdown",
   "metadata": {},
   "source": [
    "缺失数字   \n",
    "https://leetcode-cn.com/problems/missing-number/\n",
    "给定一个包含 0, 1, 2, ..., n 中 n 个数的序列，找出 0 .. n 中没有出现在序列中的那个数。   \n",
    ">思路：求和取差值即可。  "
   ]
  },
  {
   "cell_type": "code",
   "execution_count": 1,
   "metadata": {
    "ExecuteTime": {
     "end_time": "2018-12-19T02:39:57.322593Z",
     "start_time": "2018-12-19T02:39:57.307581Z"
    }
   },
   "outputs": [],
   "source": [
    "class Solution(object):\n",
    "    def missingNumber(self, nums):\n",
    "        \"\"\"\n",
    "        :type nums: List[int]\n",
    "        :rtype: int\n",
    "        \"\"\"\n",
    "        #求和，差值即为缺失的数\n",
    "        return sum(range(len(nums)+1)) - sum(nums)"
   ]
  },
  {
   "cell_type": "markdown",
   "metadata": {},
   "source": [
    "只出现一次的数字 I II III    \n",
    "I: 一个数组，只有一个数出现了一次，其余都两次，求该数；   \n",
    "II: 一个数组，只有一个数出现了一次，其余都是三次，求该数；    \n",
    "III：一个数组，只有两个数出现了两次，其余都出现了一次，求这两个数。   \n",
    ">思路：  \n",
    "先排序，再遍历判断即可。"
   ]
  },
  {
   "cell_type": "code",
   "execution_count": 2,
   "metadata": {
    "ExecuteTime": {
     "end_time": "2018-12-19T02:53:51.832836Z",
     "start_time": "2018-12-19T02:53:51.808816Z"
    }
   },
   "outputs": [],
   "source": [
    "class Solution(object):\n",
    "    def singleNumber(self, nums):\n",
    "        \"\"\"\n",
    "        :type nums: List[int]\n",
    "        :rtype: int\n",
    "        \"\"\"\n",
    "        #暴力，排序后遍历\n",
    "        nums = sorted(nums)\n",
    "        i = 0\n",
    "        while i < len(nums)-1:\n",
    "            if nums[i+1] == nums[i]:\n",
    "                i += 2\n",
    "            else:\n",
    "                return nums[i]\n",
    "        return nums[i]\n",
    "    \n",
    "    def singleNumber2(self, nums):\n",
    "        \"\"\"\n",
    "        :type nums: List[int]\n",
    "        :rtype: int\n",
    "        \"\"\"\n",
    "         #暴力，排序后遍历\n",
    "        nums = sorted(nums)\n",
    "        i = 0\n",
    "        while i < len(nums)-2:\n",
    "            if nums[i+1] == nums[i]:\n",
    "                i += 3\n",
    "            else:\n",
    "                return nums[i]\n",
    "        return nums[i]\n",
    "    \n",
    "    def singleNumber3(self, nums):\n",
    "        \"\"\"\n",
    "        :type nums: List[int]\n",
    "        :rtype: List[int]\n",
    "        \"\"\"\n",
    "         #暴力，排序后遍历\n",
    "        nums = sorted(nums)\n",
    "        i = 0\n",
    "        res = []\n",
    "        while i < len(nums)-1:\n",
    "            if nums[i+1] == nums[i]:\n",
    "                i += 2\n",
    "            else:\n",
    "                res.append(nums[i])\n",
    "                i += 1\n",
    "        if i == len(nums):\n",
    "            return res\n",
    "        else:\n",
    "            res.append(nums[i])\n",
    "            return res"
   ]
  },
  {
   "cell_type": "markdown",
   "metadata": {},
   "source": [
    "#### 求众数    \n",
    "给定一个大小为 n 的数组，找出其中所有出现超过 ⌊ n/3 ⌋ 次的元素。   \n",
    "说明: 要求算法的时间复杂度为 O(n)，空间复杂度为 O(1)。   \n",
    "\n",
    "示例 1:   \n",
    "输入: [3,2,3]   \n",
    "输出: [3]   \n",
    "示例 2:   \n",
    "输入: [1,1,1,3,3,2,2,2]   \n",
    "输出: [1,2]   "
   ]
  },
  {
   "cell_type": "code",
   "execution_count": 1,
   "metadata": {
    "ExecuteTime": {
     "end_time": "2018-12-21T00:59:10.107161Z",
     "start_time": "2018-12-21T00:59:10.086143Z"
    }
   },
   "outputs": [],
   "source": [
    "class Solution(object):\n",
    "    def majorityElement(self, nums):\n",
    "        \"\"\"\n",
    "        :type nums: List[int]\n",
    "        :rtype: List[int]\n",
    "        \"\"\"\n",
    "        #结果的个数最多只有两个，则先遍历进行多数投票的方法找出两个候选数\n",
    "        #然后再遍历找到两个数的出现次数，判断是否符合“出现次数大于n/3”\n",
    "        \n",
    "        #多数投票法\n",
    "        num1 = num2 = 1e9\n",
    "        cnt1 = cnt2 = 0\n",
    "        for num in nums:\n",
    "            if num == num1:\n",
    "                cnt1 += 1\n",
    "            elif num == num2:\n",
    "                cnt2 += 1\n",
    "            elif cnt1 == 0:\n",
    "                num1 = num\n",
    "                cnt1 += 1\n",
    "            elif cnt2 == 0:\n",
    "                num2 = num\n",
    "                cnt2 += 1\n",
    "            else:\n",
    "                cnt1 -= 1\n",
    "                cnt2 -= 1\n",
    "        #找出个数\n",
    "        cnt1 = nums.count(num1)\n",
    "        cnt2 = nums.count(num2)\n",
    "        res = []\n",
    "        if cnt1 > int(len(nums)/3):\n",
    "            res.append(num1)\n",
    "        if cnt2 > int(len(nums)/3):\n",
    "            res.append(num2)\n",
    "        return res"
   ]
  },
  {
   "cell_type": "markdown",
   "metadata": {},
   "source": [
    "#### 杨辉三角   \n",
    "1. 返回前k行的总的结果；（维护二维数组）   \n",
    "2. 返回第k行的结果；（维护一位数组）"
   ]
  },
  {
   "cell_type": "code",
   "execution_count": 2,
   "metadata": {
    "ExecuteTime": {
     "end_time": "2018-12-21T01:31:19.367795Z",
     "start_time": "2018-12-21T01:31:19.344785Z"
    }
   },
   "outputs": [],
   "source": [
    "#二维数组\n",
    "class Solution(object):\n",
    "    def generate(self, numRows):\n",
    "        \"\"\"\n",
    "        :type numRows: int\n",
    "        :rtype: List[List[int]]\n",
    "        \"\"\"\n",
    "        dp = [[0 for _ in range(numRows)] for _ in range(numRows)]\n",
    "        for i in range(numRows):\n",
    "            dp[i][0] = 1\n",
    "            dp[i][i] = 1\n",
    "        for i in range(2,numRows):\n",
    "            for j in range(1,i):\n",
    "                dp[i][j] = dp[i-1][j-1] + dp[i-1][j]\n",
    "        for i in range(numRows):\n",
    "            dp[i] = [item for item in dp[i] if item != 0]\n",
    "        return dp\n",
    "#一维数组\n",
    "class Solution(object):\n",
    "    def getRow(self, rowIndex):\n",
    "        \"\"\"\n",
    "        :type rowIndex: int\n",
    "        :rtype: List[int]\n",
    "        \"\"\"\n",
    "        if rowIndex == 0:\n",
    "            return [1]\n",
    "        if rowIndex == 1:\n",
    "            return [1,1]\n",
    "        lastRow = [1,1]\n",
    "        for i in range(2,rowIndex+1):\n",
    "            temp = [1 for _ in range(i+1)]\n",
    "            for j in range(1,i):\n",
    "                temp[j] = lastRow[j-1] + lastRow[j]\n",
    "            lastRow = temp\n",
    "        return lastRow"
   ]
  },
  {
   "cell_type": "code",
   "execution_count": null,
   "metadata": {},
   "outputs": [],
   "source": []
  }
 ],
 "metadata": {
  "kernelspec": {
   "display_name": "Python 3",
   "language": "python",
   "name": "python3"
  },
  "language_info": {
   "codemirror_mode": {
    "name": "ipython",
    "version": 3
   },
   "file_extension": ".py",
   "mimetype": "text/x-python",
   "name": "python",
   "nbconvert_exporter": "python",
   "pygments_lexer": "ipython3",
   "version": "3.5.5"
  },
  "varInspector": {
   "cols": {
    "lenName": 16,
    "lenType": 16,
    "lenVar": 40
   },
   "kernels_config": {
    "python": {
     "delete_cmd_postfix": "",
     "delete_cmd_prefix": "del ",
     "library": "var_list.py",
     "varRefreshCmd": "print(var_dic_list())"
    },
    "r": {
     "delete_cmd_postfix": ") ",
     "delete_cmd_prefix": "rm(",
     "library": "var_list.r",
     "varRefreshCmd": "cat(var_dic_list()) "
    }
   },
   "types_to_exclude": [
    "module",
    "function",
    "builtin_function_or_method",
    "instance",
    "_Feature"
   ],
   "window_display": false
  }
 },
 "nbformat": 4,
 "nbformat_minor": 2
}
