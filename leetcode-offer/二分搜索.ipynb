{
 "cells": [
  {
   "cell_type": "markdown",
   "metadata": {},
   "source": [
    "### 二分搜索   \n",
    "在有序数组中查找指定值。一般二分搜索需要注意两个点：   \n",
    "1. 循环条件是l<r 还是 l<= r;   \n",
    "2. 更新r值时，是r=mid还是r= mid-1；  \n",
    "3. 具体问题具体分析。"
   ]
  },
  {
   "cell_type": "code",
   "execution_count": 15,
   "metadata": {
    "ExecuteTime": {
     "end_time": "2018-12-17T11:42:02.479515Z",
     "start_time": "2018-12-17T11:42:02.456507Z"
    }
   },
   "outputs": [
    {
     "name": "stdout",
     "output_type": "stream",
     "text": [
      "2\n"
     ]
    }
   ],
   "source": [
    "#二分搜索源代码\n",
    "def bisearch(arr, num):\n",
    "    l = 0\n",
    "    r = len(arr)-1\n",
    "    while l <= r:\n",
    "        mid = int((l+r)/2)\n",
    "        if num == arr[mid]:\n",
    "            return mid\n",
    "        elif num < arr[mid]:\n",
    "            r = mid-1\n",
    "        else:\n",
    "            l = mid + 1\n",
    "    else:\n",
    "        return \n",
    "print(bisearch([1,2,3,4,5],3))"
   ]
  },
  {
   "cell_type": "markdown",
   "metadata": {},
   "source": [
    "1. 寻找峰值   \n",
    "1) 类似于[0,1,2,3,2,1]这种单峰数组，返回峰值对应index；    \n",
    "2) 类似于[0,4,2,3,1]这种多峰数组，返回任一峰值对应index；   \n",
    ">思路：   \n",
    "简便方法：直接返回最大值对应的index，都可以满足两个问题的解；   \n",
    "二分搜索：   \n",
    "找中点，若nums[mid] > nums[mid+1], 则从中点向左找；否则，向右找。注意边界问题。"
   ]
  },
  {
   "cell_type": "code",
   "execution_count": 16,
   "metadata": {
    "ExecuteTime": {
     "end_time": "2018-12-17T12:28:10.386833Z",
     "start_time": "2018-12-17T12:28:10.372822Z"
    }
   },
   "outputs": [],
   "source": [
    "class Solution:\n",
    "    def findPeakElement(self, nums):\n",
    "        l = 0\n",
    "        r = len(nums)-1\n",
    "        while l < r:\n",
    "            mid = int((l+r)/2)\n",
    "            if nums[mid] > nums[mid+1]:\n",
    "                r = mid\n",
    "            else:\n",
    "                l = mid + 1\n",
    "        return l"
   ]
  },
  {
   "cell_type": "markdown",
   "metadata": {},
   "source": [
    "两数之和 I - 无序数组 *twoSum*   \n",
    "对无序数组nums,找到两数之和为target的两个index，若存在返回[index1, index2],若不存在，直接返回。  \n",
    "> 思路：   \n",
    "方法一： 根据python的list的特性做，O(n);   \n",
    "方法二： 设一个dic，key是target与nums[i]的差值，val是对应的index。边遍历nums边构建字典。当便利到的nums[i]已经在字典里了，就直接返回i和dic[nums[i]], 否则继续遍历。  "
   ]
  },
  {
   "cell_type": "code",
   "execution_count": 19,
   "metadata": {
    "ExecuteTime": {
     "end_time": "2018-12-18T02:10:42.271443Z",
     "start_time": "2018-12-18T02:10:42.251434Z"
    }
   },
   "outputs": [],
   "source": [
    "class Solution:\n",
    "    def twoSum1(self, nums, target):\n",
    "        for i in range(len(nums)):\n",
    "            temp = target - nums[i]\n",
    "            if temp in nums and nums.index(temp) != i:\n",
    "                return [i,nums.index(temp)]\n",
    "        return\n",
    "    \n",
    "    def twoSum2(self, nums, target):\n",
    "        dic = {}\n",
    "        for i in range(len(nums)):\n",
    "            if nums[i] in dic:\n",
    "                return [dic[nums[i]], i]\n",
    "            else:\n",
    "                dic[target-nums[i]] = i\n",
    "        return"
   ]
  },
  {
   "cell_type": "markdown",
   "metadata": {},
   "source": [
    "两数之和 II - 输入有序数组 *twoSum*      \n",
    "对升序数组nums，找到两数之和为target的两个index，若存在返回[index1, index2], index1<index2; 若不存在，直接返回。    \n",
    ">思路：   \n",
    "两个指针l，r：   \n",
    "1. 若num[l] + num[r] == target,则返回[l,r];    \n",
    "2. 若num[l] + num[r] < target，则r-=1;  \n",
    "3. 否则， l+=1"
   ]
  },
  {
   "cell_type": "code",
   "execution_count": 17,
   "metadata": {
    "ExecuteTime": {
     "end_time": "2018-12-17T14:56:43.103875Z",
     "start_time": "2018-12-17T14:56:43.085863Z"
    }
   },
   "outputs": [],
   "source": [
    "class Solution:\n",
    "    def twoSum(self, numbers, target):\n",
    "        l = 0\n",
    "        r = len(numbers) - 1\n",
    "        while l < r:\n",
    "            if numbers[l] + numbers[r] == target:\n",
    "                return [l,r]\n",
    "            elif numbers[l] + numbers[r] > target:\n",
    "                r -= 1\n",
    "            else:\n",
    "                l += 1\n",
    "        return"
   ]
  },
  {
   "cell_type": "markdown",
   "metadata": {},
   "source": [
    "两数之和 IV - 二叉搜索树\n",
    "给定一个二叉搜索树和一个目标结果，如果 BST 中存在两个元素且它们的和等于给定的目标结果，则返回 true。   \n",
    "> 思路：  \n",
    "方法一：based on towsum II，先中序遍历BST，得到递增序列，再根据towSum II的方法找；   \n",
    "方法二：based on towsum I，设置一个字典，边遍历边找。"
   ]
  },
  {
   "cell_type": "code",
   "execution_count": 20,
   "metadata": {
    "ExecuteTime": {
     "end_time": "2018-12-18T02:39:40.199855Z",
     "start_time": "2018-12-18T02:39:40.183844Z"
    }
   },
   "outputs": [],
   "source": [
    "#方法二\n",
    "class Solution(object):\n",
    "    def findTarget(self, root, k):\n",
    "        dic = {}\n",
    "        return self.pre(root, k, dic)\n",
    "    \n",
    "    def pre(self,root, k, dic):\n",
    "        if root:\n",
    "            if root.val in dic:\n",
    "                return True\n",
    "            else:\n",
    "                dic[k-root.val] = root\n",
    "                return self.pre(root.left, k,dic) or self.pre(root.right, k,dic)\n",
    "        else:\n",
    "            return False"
   ]
  },
  {
   "cell_type": "markdown",
   "metadata": {},
   "source": [
    "三数之和-3sum   \n",
    "给定一个包含 n 个整数的数组 nums，判断 nums 中是否存在三个元素 a，b，c ，使得 a + b + c = 0 ？找出所有满足条件且不重复的三元组。   \n",
    "\n",
    "注意：答案中不可以包含重复的三元组。     \n",
    "\n",
    "例如, 给定数组 nums = [-1, 0, 1, 2, -1, -4]，    \n",
    "满足要求的三元组集合为：   \n",
    "[   \n",
    "  [-1, 0, 1],   \n",
    "  [-1, -1, 2]   \n",
    "]     \n",
    "\n",
    ">思路：\n",
    "使用2sum思想，两层循环，第一层遍历每一个nums中元素，2sum = 3sum-nums[i], 第二层再以2sum为目标target遍历。注意为了提升速度：  \n",
    "1. 先对数组排序，然后按照双指针有序2sum来做；  \n",
    "2. 为了防止重复元素，循环时需要判断跳过重复元素。（不能为了简单直接在res.append时候判断，会超时）。"
   ]
  },
  {
   "cell_type": "code",
   "execution_count": 23,
   "metadata": {
    "ExecuteTime": {
     "end_time": "2018-12-18T06:49:19.393919Z",
     "start_time": "2018-12-18T06:49:19.365898Z"
    }
   },
   "outputs": [],
   "source": [
    "class Solution(object):\n",
    "    def threeSum(self, nums):\n",
    "        \"\"\"\n",
    "        :type nums: List[int]\n",
    "        :rtype: List[List[int]]\n",
    "        \"\"\"\n",
    "        nums = sorted(nums)\n",
    "        res = []\n",
    "        i = 0\n",
    "        while i < len(nums):\n",
    "            l = i+1\n",
    "            r = len(nums)-1\n",
    "            while l < r:\n",
    "                threeSum = nums[l] + nums[r] + nums[i]\n",
    "                if threeSum == 0:\n",
    "                    res.append([nums[i], nums[l],nums[r]])\n",
    "                    #跳过重复元素\n",
    "                    while l < r and nums[l+1] == nums[l]:\n",
    "                        l+=1\n",
    "                    while l < r and nums[r-1] == nums[r]:\n",
    "                        r-=1\n",
    "                    l+=1\n",
    "                    r-=1\n",
    "                elif threeSum < 0:\n",
    "                    l += 1\n",
    "                else:\n",
    "                    r -= 1\n",
    "            #跳过重复元素\n",
    "            while i < len(nums)-1 and nums[i+1] == nums[i]:\n",
    "                i += 1\n",
    "            i+=1\n",
    "        return res"
   ]
  },
  {
   "cell_type": "markdown",
   "metadata": {},
   "source": [
    "最接近的三数之和   \n",
    "给定一个包括 n 个整数的数组 nums 和 一个目标值 target。找出 nums 中的三个整数，使得它们的和与 target 最接近。返回这三个数的和。假定每组输入只存在唯一答案。   \n",
    "\n",
    "例如，给定数组 nums = [-1，2，1，-4], 和 target = 1.   \n",
    "与 target 最接近的三个数的和为 2. (-1 + 2 + 1 = 2).   \n",
    ">思路：  \n",
    "和3sum一样，只不过：  \n",
    "1. 时刻更新最接近target的数；  \n",
    "2. 不需要判断重复元素。"
   ]
  },
  {
   "cell_type": "code",
   "execution_count": 24,
   "metadata": {
    "ExecuteTime": {
     "end_time": "2018-12-18T06:53:25.269917Z",
     "start_time": "2018-12-18T06:53:25.248902Z"
    }
   },
   "outputs": [],
   "source": [
    "class Solution(object):\n",
    "    def threeSumClosest(self, nums, target):\n",
    "        \"\"\"\n",
    "        :type nums: List[int]\n",
    "        :type target: int\n",
    "        :rtype: int\n",
    "        \"\"\"\n",
    "        nums = sorted(nums)\n",
    "        i = 0\n",
    "        minv = nums[0] + nums[1] + nums[2]#与target最接近的值\n",
    "        for i in range(len(nums)):\n",
    "            l = i+1\n",
    "            r = len(nums)-1\n",
    "            while l < r:\n",
    "                threeSum = nums[i] + nums[l] + nums[r]\n",
    "                if abs(threeSum - target) < abs(minv - target):\n",
    "                    minv = threeSum\n",
    "                if threeSum < target:\n",
    "                    l += 1\n",
    "                elif threeSum > target:\n",
    "                    r -= 1\n",
    "                elif threeSum == target:\n",
    "                    return target\n",
    "        return minv"
   ]
  },
  {
   "cell_type": "markdown",
   "metadata": {},
   "source": [
    "四数之和 - 4sum   \n",
    ">思路：  \n",
    "同3sum，只不过是三层循环，注意多处都需要判断是否有重复元素。"
   ]
  },
  {
   "cell_type": "code",
   "execution_count": 25,
   "metadata": {
    "ExecuteTime": {
     "end_time": "2018-12-18T07:14:37.243872Z",
     "start_time": "2018-12-18T07:14:37.218850Z"
    }
   },
   "outputs": [],
   "source": [
    "class Solution(object):\n",
    "    def fourSum(self, nums, target):\n",
    "        \"\"\"\n",
    "        :type nums: List[int]\n",
    "        :type target: int\n",
    "        :rtype: List[List[int]]\n",
    "        \"\"\"\n",
    "        nums = sorted(nums)\n",
    "        res = []\n",
    "        i = 0\n",
    "        while i < len(nums):\n",
    "            j = i+1\n",
    "            while j < len(nums):\n",
    "                l = j+1\n",
    "                r = len(nums)-1\n",
    "                while l < r:\n",
    "                    fourSum = nums[i]+nums[j]+nums[l] + nums[r]\n",
    "                    if fourSum == target:\n",
    "                        res.append([nums[i], nums[j], nums[l], nums[r]])\n",
    "                        #跳过重复元素\n",
    "                        while l<r and nums[l+1] == nums[l]:\n",
    "                            l += 1\n",
    "                        while l < r and nums[r-1] == nums[r]:\n",
    "                            r -= 1\n",
    "                        l += 1\n",
    "                        r -= 1\n",
    "                    elif fourSum < target:\n",
    "                        l += 1\n",
    "                    else:\n",
    "                        r -= 1\n",
    "                #去掉重复元素\n",
    "                while j < len(nums)-1 and nums[j+1] == nums[j]:\n",
    "                    j+=1\n",
    "                j+=1\n",
    "            #去掉重复元素\n",
    "            while i < len(nums)-1 and nums[i+1] == nums[i]:\n",
    "                i +=1 \n",
    "            i+=1\n",
    "        return res"
   ]
  },
  {
   "cell_type": "markdown",
   "metadata": {},
   "source": [
    "四数相加 II     \n",
    "给定四个包含整数的数组列表 A , B , C , D ,计算有多少个元组 (i, j, k, l) ，使得 A[i] + B[j] + C[k] + D[l] = 0。\n",
    "\n",
    "为了使问题简单化，所有的 A, B, C, D 具有相同的长度 N，且 0 ≤ N ≤ 500 。所有整数的范围在 -228 到 228 - 1 之间，最终结果不会超过 231 - 1 。"
   ]
  },
  {
   "cell_type": "code",
   "execution_count": null,
   "metadata": {},
   "outputs": [],
   "source": [
    "class Solution(object):\n",
    "    def fourSumCount(self, A, B, C, D):\n",
    "        \"\"\"\n",
    "        :type A: List[int]\n",
    "        :type B: List[int]\n",
    "        :type C: List[int]\n",
    "        :type D: List[int]\n",
    "        :rtype: int\n",
    "        \"\"\"\n",
    "        dic = {}\n",
    "        n = len(A)\n",
    "        for i in range(n):\n",
    "            for j in range(n):\n",
    "                twoSum = 0 - (A[i] + B[j])\n",
    "                if twoSum in dic:\n",
    "                    dic[twoSum] += 1\n",
    "                else:\n",
    "                    dic[twoSum] = 1\n",
    "        res = 0\n",
    "        for i in range(n):\n",
    "            for j in range(n):\n",
    "                twoSum = C[i] + D[j]\n",
    "                if twoSum in dic:\n",
    "                    res += dic[twoSum]\n",
    "        return res\n",
    "        "
   ]
  },
  {
   "cell_type": "markdown",
   "metadata": {},
   "source": [
    "取暖器问题   \n",
    "冬季已经来临。 你的任务是设计一个有固定加热半径的供暖器向所有房屋供暖。   \n",
    "现在，给出位于一条水平线上的房屋和供暖器的位置，找到可以覆盖所有房屋的最小加热半径。  \n",
    "所以，你的输入将会是房屋和供暖器的位置。你将输出供暖器的最小加热半径。   \n",
    "\n",
    "说明:    \n",
    "给出的房屋和供暖器的数目是非负数且不会超过 25000。   \n",
    "给出的房屋和供暖器的位置均是非负数且不会超过10^9。    \n",
    "只要房屋位于供暖器的半径内(包括在边缘上)，它就可以得到供暖。    \n",
    "所有供暖器都遵循你的半径标准，加热的半径也一样。    \n",
    "\n",
    "示例 1:   \n",
    "输入: [1,2,3],[2]    \n",
    "输出: 1   \n",
    "解释: 仅在位置2上有一个供暖器。如果我们将加热半径设为1，那么所有房屋就都能得到供暖。   \n",
    "示例 2:   \n",
    "输入: [1,2,3,4],[1,4]   \n",
    "输出: 1   \n",
    "解释: 在位置1, 4上有两个供暖器。我们需要将加热半径设为1，这样所有房屋就都能得到供暖。   \n",
    ">思路：   \n",
    "1. 对于每个房屋，要么用前面的暖气，要么用后面的，二者取近的，得到距离；   \n",
    "2. 对于所有的房屋，选择最大的上述距离。"
   ]
  },
  {
   "cell_type": "code",
   "execution_count": 1,
   "metadata": {
    "ExecuteTime": {
     "end_time": "2018-12-18T12:30:47.161933Z",
     "start_time": "2018-12-18T12:30:47.129910Z"
    }
   },
   "outputs": [],
   "source": [
    "class Solution(object):\n",
    "    def findRadius(self, houses, heaters):\n",
    "        \"\"\"\n",
    "        :type houses: List[int]\n",
    "        :type heaters: List[int]\n",
    "        :rtype: int\n",
    "        \"\"\"\n",
    "        #对每个房屋，其供暖的可能是前一个暖气，或后一个暖气，取离得最近的(找最小距离)\n",
    "        #算出所有房屋对应的离得最近的暖气的距离，然后取最大的\n",
    "        houses = sorted(houses)\n",
    "        heaters = sorted(heaters)\n",
    "        res = 0\n",
    "        for i in range(len(houses)):\n",
    "            nearHeater = self.findHeater(heaters, houses[i])\n",
    "            res = max(res, abs(nearHeater-houses[i]))\n",
    "        return res\n",
    "                \n",
    "                \n",
    "    def findHeater(self, heaters, house):\n",
    "        nearHeater = heaters[0]\n",
    "        l = 0\n",
    "        r = len(heaters)-1\n",
    "        while l <= r:\n",
    "            mid = int((l+r)/2)\n",
    "            if abs(heaters[mid]-house) < abs(nearHeater-house):\n",
    "                nearHeater = heaters[mid]\n",
    "            if heaters[mid] < house:\n",
    "                l = mid + 1\n",
    "            elif heaters[mid] > house:\n",
    "                r = mid - 1\n",
    "            elif heaters[mid] == house:\n",
    "                return heaters[mid]\n",
    "        return nearHeater"
   ]
  },
  {
   "cell_type": "markdown",
   "metadata": {},
   "source": [
    "寻找重复数    \n",
    "给定一个包含 n + 1 个整数的数组 nums，其数字都在 1 到 n 之间（包括 1 和 n），可知至少存在一个重复的整数。假设只有一个重复的整数，找出这个重复的数。   \n",
    "示例 1:   \n",
    "输入: [1,3,4,2,2]   \n",
    "输出: 2    \n",
    "示例 2:   \n",
    "输入: [3,1,3,4,2]   \n",
    "输出: 3  \n",
    "\n",
    "说明：  \n",
    "不能更改原数组（假设数组是只读的）。   \n",
    "只能使用额外的 O(1) 的空间。   \n",
    "时间复杂度小于 O(n2) 。   \n",
    "数组中只有一个重复的数字，但它可能不止重复出现一次。    \n",
    "\n",
    "> 思路：  \n",
    "方法一：设所有数的最小值l为1，最大值r为n，每次取中间值mid，然后遍历数组nums，若<=mid的数多于mid本身的值，说明重复数字在(mid+1, r)之间，否则则在(r, mid)之间。    \n",
    "方法二：用链表里快慢指针的思想。假设数组nums中每个值代表了其对应的下一个节点的位置(注意数组index是从0开始的，所以要减去1)，则整个数组组成一个带有环的链表，使用快慢指针找到环的起始点即可。"
   ]
  },
  {
   "cell_type": "code",
   "execution_count": 2,
   "metadata": {
    "ExecuteTime": {
     "end_time": "2018-12-19T01:40:33.848197Z",
     "start_time": "2018-12-19T01:40:33.829191Z"
    }
   },
   "outputs": [],
   "source": [
    "class Solution(object):\n",
    "    def findDuplicate(self, nums):\n",
    "        \"\"\"\n",
    "        :type nums: List[int]\n",
    "        :rtype: int\n",
    "        \"\"\"\n",
    "        #方法一：找mid\n",
    "        l = 1\n",
    "        r = len(nums)\n",
    "        while l < r:\n",
    "            mid = int((l+r)/2)\n",
    "            #找到小于等于mid的数的个数\n",
    "            cnt = 0\n",
    "            for i in range(len(nums)):\n",
    "                if nums[i] <= mid:\n",
    "                    cnt += 1\n",
    "            if cnt <= mid:\n",
    "                l = mid + 1\n",
    "            else:\n",
    "                r = mid\n",
    "        return l\n",
    "    def findDuplicate2(self, nums):\n",
    "        #快慢指针的思想\n",
    "        f = 0\n",
    "        s = 0\n",
    "        while 1:\n",
    "            s = nums[s]\n",
    "            f = nums[nums[f]]\n",
    "            if s == f:\n",
    "                break\n",
    "        f = 0\n",
    "        while 1:\n",
    "            s = nums[s]\n",
    "            f = nums[f]\n",
    "            if f == s:\n",
    "                return f\n",
    "        \n",
    "        "
   ]
  },
  {
   "cell_type": "markdown",
   "metadata": {},
   "source": [
    "有序矩阵中第k小的元素：   \n",
    "给定一个 n x n 矩阵，其中每行和每列元素均按升序排序，找到矩阵中第k小的元素。   \n",
    "请注意，它是排序后的第k小元素，而不是第k个元素。   \n",
    "\n",
    "示例:   \n",
    "matrix = [   \n",
    "   [ 1,  5,  9],   \n",
    "   [10, 11, 13],    \n",
    "   [12, 13, 15]   \n",
    "],   \n",
    "k = 8,   \n",
    "   \n",
    "返回 13。   \n",
    "\n",
    ">思路：  \n",
    "方法一：二分搜索：  \n",
    "https://www.cnblogs.com/grandyang/p/5727892.html    \n",
    "1.初始条件： l为矩阵中最小的元素，r为最大的。  \n",
    "2.取中间值mid，遍历矩阵中<=mid的元素个数cnt（目的是找到mid是第几小的元素）, 若cnt <= k, 则l = mid + 1； 否则r= mid.知道l和r重合。最后返回l即可"
   ]
  },
  {
   "cell_type": "code",
   "execution_count": null,
   "metadata": {},
   "outputs": [],
   "source": [
    "class Solution(object):\n",
    "    def kthSmallest(self, matrix, k):\n",
    "        \"\"\"\n",
    "        :type matrix: List[List[int]]\n",
    "        :type k: int\n",
    "        :rtype: int\n",
    "        \"\"\"\n",
    "        #二分搜索\n",
    "        m = len(matrix)\n",
    "        n = len(matrix[0])\n",
    "        l = matrix[0][0]\n",
    "        r = matrix[-1][-1]\n",
    "        while l <  r:\n",
    "            mid = int((l+r)/2)\n",
    "            cnt = 0\n",
    "            #找出mid是第几小的元素\n",
    "            for i in range(m):\n",
    "                for j in range(n):\n",
    "                    if matrix[i][j] <= mid:\n",
    "                        cnt += 1\n",
    "                    else:\n",
    "                        break\n",
    "            if cnt >= k:\n",
    "                r = mid\n",
    "            elif cnt < k:\n",
    "                l = mid + 1\n",
    "        return l\n",
    "            "
   ]
  },
  {
   "cell_type": "markdown",
   "metadata": {},
   "source": [
    "寻找旋转排序数组中的最小值    \n",
    "假设按照升序排序的数组在预先未知的某个点上进行了旋转。   \n",
    "( 例如，数组 [0,1,2,4,5,6,7] 可能变为 [4,5,6,7,0,1,2] )。    \n",
    "请找出其中最小的元素。    \n",
    "你可以假设数组中不存在重复元素。    \n",
    "示例 1:    \n",
    "输入: [3,4,5,1,2]    \n",
    "输出: 1   \n",
    "示例 2:    \n",
    "输入: [4,5,6,7,0,1,2]   \n",
    "输出: 0     \n",
    ">思路：二分搜索   "
   ]
  },
  {
   "cell_type": "code",
   "execution_count": 3,
   "metadata": {
    "ExecuteTime": {
     "end_time": "2018-12-19T05:29:05.138898Z",
     "start_time": "2018-12-19T05:29:05.123886Z"
    }
   },
   "outputs": [],
   "source": [
    "class Solution(object):\n",
    "    def findMin(self, nums):\n",
    "        \"\"\"\n",
    "        :type nums: List[int]\n",
    "        :rtype: int\n",
    "        \"\"\"\n",
    "        #return min(nums)\n",
    "        #二分\n",
    "        l = 0\n",
    "        r = len(nums) - 1\n",
    "        while l < r:\n",
    "            mid = int((l+r)/2)\n",
    "            if nums[mid] > nums[r]:\n",
    "                l = mid + 1\n",
    "            else:\n",
    "                r = mid\n",
    "        return nums[r]"
   ]
  },
  {
   "cell_type": "markdown",
   "metadata": {},
   "source": [
    "寻找旋转排序数组中的最小值 II     \n",
    "旋转数组中允许有重复元素。"
   ]
  },
  {
   "cell_type": "code",
   "execution_count": 5,
   "metadata": {
    "ExecuteTime": {
     "end_time": "2018-12-19T06:15:42.814073Z",
     "start_time": "2018-12-19T06:15:42.796058Z"
    }
   },
   "outputs": [],
   "source": [
    "class Solution(object):\n",
    "    def findMin(self, nums):\n",
    "        \"\"\"\n",
    "        :type nums: List[int]\n",
    "        :rtype: int\n",
    "        \"\"\"\n",
    "        #return min(nums)\n",
    "        l = 0\n",
    "        r = len(nums)-1\n",
    "        while l < r:\n",
    "            mid = int((l+r)/2)\n",
    "            if nums[mid] > nums[r]:\n",
    "                l = mid + 1\n",
    "            elif nums[mid] < nums[l]:\n",
    "                r = mid\n",
    "            else:\n",
    "                r -= 1\n",
    "        return nums[l]"
   ]
  },
  {
   "cell_type": "markdown",
   "metadata": {},
   "source": [
    "搜索旋转排序数组   \n",
    "假设按照升序排序的数组在预先未知的某个点上进行了旋转。  \n",
    "( 例如，数组 [0,1,2,4,5,6,7] 可能变为 [4,5,6,7,0,1,2] )。   \n",
    "搜索一个给定的目标值，如果数组中存在这个目标值，则返回它的索引，否则返回 -1 。  \n",
    "你可以假设数组中不存在重复的元素。  \n",
    "你的算法时间复杂度必须是 O(log n) 级别。   \n",
    "\n",
    "示例 1:  \n",
    "输入: nums = [4,5,6,7,0,1,2], target = 0   \n",
    "输出: 4  \n",
    "\n",
    ">思路：  \n",
    "1.先二分法找到旋转轴点，则左右各有序。  \n",
    "2.判断target在哪个有序区间里面；  \n",
    "3.在该有序区间里面二分搜索。"
   ]
  },
  {
   "cell_type": "code",
   "execution_count": 4,
   "metadata": {
    "ExecuteTime": {
     "end_time": "2018-12-19T06:05:24.165578Z",
     "start_time": "2018-12-19T06:05:24.139587Z"
    }
   },
   "outputs": [],
   "source": [
    "class Solution(object):\n",
    "    def search(self, nums, target):\n",
    "        \"\"\"\n",
    "        :type nums: List[int]\n",
    "        :type target: int\n",
    "        :rtype: int\n",
    "        \"\"\"\n",
    "        #先排除只有0个或1个元素的情况\n",
    "        if nums == []:\n",
    "            return -1\n",
    "        if len(nums) == 1:\n",
    "            if nums[0] == target:\n",
    "                return 0\n",
    "            else:\n",
    "                return -1\n",
    "        #若不是旋转数组，则直接二分\n",
    "        if nums[0] < nums[-1]:\n",
    "            i = 0\n",
    "            j = len(nums)-1\n",
    "        #若是旋转数组，找到旋转的轴点，左右各有序\n",
    "        elif nums[0] > nums[-1]:\n",
    "            l = 0\n",
    "            r = len(nums)-1\n",
    "            while l < r:\n",
    "                mid = int((l+r)/2)\n",
    "                if nums[mid] > nums[r]:\n",
    "                    l = mid + 1\n",
    "                else:\n",
    "                    r = mid\n",
    "            #找到target所属的有序区间，然后继续二分\n",
    "            if target >= nums[0]:#说明target在第一个有序区间\n",
    "                i = 0\n",
    "                j = l-1\n",
    "            else:\n",
    "                i = l\n",
    "                j = len(nums)-1         \n",
    "        while i <= j:\n",
    "            mid = int((i+j)/2)\n",
    "            if nums[mid] == target:\n",
    "                return mid\n",
    "            elif target > nums[mid]:\n",
    "                i = mid + 1\n",
    "            else:\n",
    "                j = mid - 1\n",
    "        return -1"
   ]
  },
  {
   "cell_type": "markdown",
   "metadata": {},
   "source": [
    "长度最小的子数组  \n",
    "给定一个含有 n 个正整数的数组和一个正整数 s ，找出该数组中满足其和 ≥ s 的长度最小的连续子数组。如果不存在符合条件的连续子数组，返回 0。   \n",
    "\n",
    "示例:    \n",
    "输入: s = 7, nums = [2,3,1,2,4,3]   \n",
    "输出: 2   \n",
    "解释: 子数组 [4,3] 是该条件下的长度最小的连续子数组。   \n",
    "\n",
    ">思路：  \n",
    "1.左右指针均指向0；  \n",
    "2.每次当目前的和小于s时先移动右指针，直到区间和大于等于s，记录区间长度；  \n",
    "3.在2的基础上停止移动右指针，移动左指针，同时和减去左指针值，判断区间和是否大于等于s，是则更新最短区间长度；"
   ]
  },
  {
   "cell_type": "code",
   "execution_count": 1,
   "metadata": {
    "ExecuteTime": {
     "end_time": "2018-12-20T01:57:57.226807Z",
     "start_time": "2018-12-20T01:57:57.206792Z"
    }
   },
   "outputs": [],
   "source": [
    "class Solution(object):\n",
    "    def minSubArrayLen(self, s, nums):\n",
    "        \"\"\"\n",
    "        :type s: int\n",
    "        :type nums: List[int]\n",
    "        :rtype: int\n",
    "        \"\"\"\n",
    "        #左右指针滑动窗口\n",
    "        l = 0\n",
    "        r = 0\n",
    "        res = len(nums)+1\n",
    "        total = 0\n",
    "        while l < len(nums):\n",
    "            if r < len(nums) and total < s:\n",
    "                total += nums[r]\n",
    "                r += 1\n",
    "            else:\n",
    "                total -= nums[l]\n",
    "                l += 1\n",
    "            if total >= s:\n",
    "                res = min(res, r-l)\n",
    "        if res == len(nums)+1:\n",
    "            return 0\n",
    "        else:\n",
    "            return res"
   ]
  },
  {
   "cell_type": "code",
   "execution_count": null,
   "metadata": {},
   "outputs": [],
   "source": []
  }
 ],
 "metadata": {
  "kernelspec": {
   "display_name": "Python 3",
   "language": "python",
   "name": "python3"
  },
  "language_info": {
   "codemirror_mode": {
    "name": "ipython",
    "version": 3
   },
   "file_extension": ".py",
   "mimetype": "text/x-python",
   "name": "python",
   "nbconvert_exporter": "python",
   "pygments_lexer": "ipython3",
   "version": "3.5.5"
  },
  "varInspector": {
   "cols": {
    "lenName": 16,
    "lenType": 16,
    "lenVar": 40
   },
   "kernels_config": {
    "python": {
     "delete_cmd_postfix": "",
     "delete_cmd_prefix": "del ",
     "library": "var_list.py",
     "varRefreshCmd": "print(var_dic_list())"
    },
    "r": {
     "delete_cmd_postfix": ") ",
     "delete_cmd_prefix": "rm(",
     "library": "var_list.r",
     "varRefreshCmd": "cat(var_dic_list()) "
    }
   },
   "types_to_exclude": [
    "module",
    "function",
    "builtin_function_or_method",
    "instance",
    "_Feature"
   ],
   "window_display": false
  }
 },
 "nbformat": 4,
 "nbformat_minor": 2
}
