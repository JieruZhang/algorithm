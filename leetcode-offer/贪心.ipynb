{
 "cells": [
  {
   "cell_type": "markdown",
   "metadata": {},
   "source": [
    "**861. 翻转矩阵后的得分**      \n",
    "\n",
    "有一个二维矩阵 A 其中每个元素的值为 0 或 1 。\n",
    "\n",
    "移动是指选择任一行或列，并转换该行或列中的每一个值：将所有 0 都更改为 1，将所有 1 都更改为 0。\n",
    "\n",
    "在做出任意次数的移动后，将该矩阵的每一行都按照二进制数来解释，矩阵的得分就是这些数字的总和。\n",
    "\n",
    "返回尽可能高的分数。"
   ]
  },
  {
   "cell_type": "code",
   "execution_count": 1,
   "metadata": {
    "ExecuteTime": {
     "end_time": "2019-01-07T06:56:56.362025Z",
     "start_time": "2019-01-07T06:56:56.338006Z"
    }
   },
   "outputs": [],
   "source": [
    "class Solution(object):\n",
    "    def matrixScore(self, A):\n",
    "        \"\"\"\n",
    "        :type A: List[List[int]]\n",
    "        :rtype: int\n",
    "        \"\"\"\n",
    "        m = len(A)\n",
    "        n = len(A[0])\n",
    "        #要想分数高，第一列（即每个数的第一位都必须是1），先按行判断第一位是否为1，不是则移动该行\n",
    "        for i in range(m):\n",
    "            if A[i][0] == 0:\n",
    "                A[i] = [1-item for item in A[i]]\n",
    "        #然后从第二列开始，若该列的0的个数大于1的个数，则改变该列的值\n",
    "        for j in range(1,n):\n",
    "            num0 = 0\n",
    "            for i in range(m):\n",
    "                if A[i][j] == 0:\n",
    "                    num0 += 1\n",
    "            if num0 > (m - num0):\n",
    "                for i in range(m):\n",
    "                    A[i][j] = 1- A[i][j]\n",
    "        #转化成和\n",
    "        res = 0\n",
    "        for item in A:\n",
    "            item = [str(i) for i in item]\n",
    "            res += int(''.join(item),2)\n",
    "        return res"
   ]
  },
  {
   "cell_type": "markdown",
   "metadata": {},
   "source": [
    "**406. 根据身高重建队列**           \n",
    "\n",
    "\n",
    "假设有打乱顺序的一群人站成一个队列。 每个人由一个整数对(h, k)表示，其中h是这个人的身高，k是排在这个人前面且身高大于或等于h的人数。 编写一个算法来重建这个队列。\n",
    "\n",
    "注意：\n",
    "总人数少于1100人。\n",
    "\n",
    "示例\n",
    "\n",
    "输入:\n",
    "[[7,0], [4,4], [7,1], [5,0], [6,1], [5,2]]\n",
    "\n",
    "输出:\n",
    "[[5,0], [7,0], [5,2], [6,1], [4,4], [7,1]]"
   ]
  },
  {
   "cell_type": "code",
   "execution_count": 2,
   "metadata": {
    "ExecuteTime": {
     "end_time": "2019-01-07T07:35:10.295960Z",
     "start_time": "2019-01-07T07:35:10.276946Z"
    }
   },
   "outputs": [],
   "source": [
    "class Solution(object):\n",
    "    def reconstructQueue(self, people):\n",
    "        \"\"\"\n",
    "        :type people: List[List[int]]\n",
    "        :rtype: List[List[int]]\n",
    "        \"\"\"\n",
    "        if len(people) <= 1:\n",
    "            return people\n",
    "        res = []\n",
    "        #先按照身高降序排列，当身高相等时在按照比其大的人数升序排列\n",
    "        people = sorted(people, key=lambda x:(x[0],-x[1]),reverse=True)\n",
    "        res.append(people[0])\n",
    "        #然后逐个插入，若比当前人高的人有i个，则把该人插入队列的第i位\n",
    "        for i in range(1,len(people)):\n",
    "            j = people[i][1]\n",
    "            if j == 0:\n",
    "                res = [people[i]] + res\n",
    "            else:\n",
    "                res = res[:j] + [people[i]] + res[j:]\n",
    "        return res"
   ]
  },
  {
   "cell_type": "markdown",
   "metadata": {},
   "source": [
    "**134. 加油站**      \n",
    "https://leetcode-cn.com/problems/gas-station/     \n",
    "在一条环路上有 N 个加油站，其中第 i 个加油站有汽油 gas[i] 升。\n",
    "\n",
    "你有一辆油箱容量无限的的汽车，从第 i 个加油站开往第 i+1 个加油站需要消耗汽油 cost[i] 升。你从其中的一个加油站出发，开始时油箱为空。\n",
    "\n",
    "如果你可以绕环路行驶一周，则返回出发时加油站的编号，否则返回 -1。\n",
    "\n",
    "说明: \n",
    "\n",
    "如果题目有解，该答案即为唯一答案。\n",
    "输入数组均为非空数组，且长度相同。\n",
    "输入数组中的元素均为非负数。"
   ]
  },
  {
   "cell_type": "code",
   "execution_count": 4,
   "metadata": {
    "ExecuteTime": {
     "end_time": "2019-01-07T08:11:17.600632Z",
     "start_time": "2019-01-07T08:11:17.572619Z"
    }
   },
   "outputs": [],
   "source": [
    "#O(n2)解，最后一个例子超时\n",
    "class Solution(object):\n",
    "    def canCompleteCircuit(self, gas, cost):\n",
    "        \"\"\"\n",
    "        :type gas: List[int]\n",
    "        :type cost: List[int]\n",
    "        :rtype: int\n",
    "        \"\"\"\n",
    "        #当从第i个开始时，把前i-1个移到后面，转换成从第一个开始，然后判断\n",
    "        for i in range(len(gas)):\n",
    "            new_gas = gas[i:] + gas[:i]\n",
    "            new_cost = cost[i:] + cost[:i]\n",
    "            if self.ifok(new_gas, new_cost):\n",
    "                return i\n",
    "        return -1\n",
    "            \n",
    "    def ifok(self, gas, cost):\n",
    "        own = 0\n",
    "        i = 0\n",
    "        while i < len(cost):\n",
    "            own += gas[i]\n",
    "            if own >= cost[i]:\n",
    "                own -= cost[i]\n",
    "                i += 1\n",
    "            else:\n",
    "                break\n",
    "        if i == len(cost):\n",
    "            return True\n",
    "        else:\n",
    "            return False\n",
    "        \n",
    "#O(n)复杂度算法\n",
    "class Solution(object):\n",
    "    def canCompleteCircuit(self, gas, cost):\n",
    "        \"\"\"\n",
    "        :type gas: List[int]\n",
    "        :type cost: List[int]\n",
    "        :rtype: int\n",
    "        \"\"\"\n",
    "        remain = 0 #油箱余量\n",
    "        start = 0 #开始位置\n",
    "        min_remain = float('inf') #最小油箱余量,最小余量后面的即为开始的位置\n",
    "        for i in range(len(gas)):\n",
    "            remain += gas[i] - cost[i]\n",
    "            if remain < min_remain:\n",
    "                min_remain = remain\n",
    "                start = (i + 1)%len(gas)\n",
    "        #如果最小余量已经为负，说明不可能到达，则返回\n",
    "        if remain < 0:\n",
    "            return -1\n",
    "        else:\n",
    "            return start"
   ]
  },
  {
   "cell_type": "code",
   "execution_count": null,
   "metadata": {},
   "outputs": [],
   "source": []
  }
 ],
 "metadata": {
  "kernelspec": {
   "display_name": "Python 3",
   "language": "python",
   "name": "python3"
  },
  "language_info": {
   "codemirror_mode": {
    "name": "ipython",
    "version": 3
   },
   "file_extension": ".py",
   "mimetype": "text/x-python",
   "name": "python",
   "nbconvert_exporter": "python",
   "pygments_lexer": "ipython3",
   "version": "3.5.5"
  },
  "varInspector": {
   "cols": {
    "lenName": 16,
    "lenType": 16,
    "lenVar": 40
   },
   "kernels_config": {
    "python": {
     "delete_cmd_postfix": "",
     "delete_cmd_prefix": "del ",
     "library": "var_list.py",
     "varRefreshCmd": "print(var_dic_list())"
    },
    "r": {
     "delete_cmd_postfix": ") ",
     "delete_cmd_prefix": "rm(",
     "library": "var_list.r",
     "varRefreshCmd": "cat(var_dic_list()) "
    }
   },
   "types_to_exclude": [
    "module",
    "function",
    "builtin_function_or_method",
    "instance",
    "_Feature"
   ],
   "window_display": false
  }
 },
 "nbformat": 4,
 "nbformat_minor": 2
}
